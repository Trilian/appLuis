{
 "cells": [
  {
   "cell_type": "code",
   "execution_count": 1,
   "metadata": {},
   "outputs": [],
   "source": [
    "import pandas as pd"
   ]
  },
  {
   "cell_type": "markdown",
   "metadata": {},
   "source": [
    "<div class=\"alert alert-block alert-info\">\n",
    "<h2><center><strong>Analyse exploratoire du jeu de données Frames </strong></center></h2>\n",
    "        \n",
    "</div>"
   ]
  },
  {
   "cell_type": "code",
   "execution_count": 2,
   "metadata": {},
   "outputs": [],
   "source": [
    "%load_ext pycodestyle_magic"
   ]
  },
  {
   "cell_type": "code",
   "execution_count": 3,
   "metadata": {},
   "outputs": [],
   "source": [
    "%flake8_on"
   ]
  },
  {
   "cell_type": "markdown",
   "metadata": {},
   "source": [
    "<div class=\"alert alert-block alert-success\">  \n",
    "<strong>1. Chargement du jeu de données<a id='head-1-2'></a> 📕 📗 📘 📙</strong>\n",
    "        \n",
    "</div>"
   ]
  },
  {
   "cell_type": "markdown",
   "metadata": {},
   "source": [
    "*a) Initialisation des paramètres*"
   ]
  },
  {
   "cell_type": "code",
   "execution_count": 4,
   "metadata": {},
   "outputs": [],
   "source": [
    "data_path = \"data/frames.json\""
   ]
  },
  {
   "cell_type": "markdown",
   "metadata": {},
   "source": [
    "**Le jeu de données est composé d'un fichier json.**\n",
    "\n",
    "Il s'agit d'un ensemble de dialogues entre 12 partcipants sur une période de 20 jours. \n",
    "\n",
    "Grâce à une interface de tchat, deux humains conversent ensemble dans le but de trouver le meilleur deal pour réserver un voyage. Un joue le rôle de l'utilisateur et l'autre celui de l'agent de voyage."
   ]
  },
  {
   "cell_type": "markdown",
   "metadata": {},
   "source": [
    "*b) Chargement du fichier*"
   ]
  },
  {
   "cell_type": "code",
   "execution_count": 5,
   "metadata": {},
   "outputs": [],
   "source": [
    "bot_conversation_df = pd.read_json(data_path)"
   ]
  },
  {
   "cell_type": "markdown",
   "metadata": {},
   "source": [
    "Chaque dialogue est composé de 5 champs : \n",
    "- user_id \n",
    "- wizard_id \n",
    "- id\n",
    "- labels\n",
    "- turns"
   ]
  },
  {
   "cell_type": "code",
   "execution_count": 6,
   "metadata": {},
   "outputs": [
    {
     "output_type": "execute_result",
     "data": {
      "text/plain": [
       "     user_id                                              turns  wizard_id  \\\n",
       "0  U22HTHYNP  [{'text': 'I'd like to book a trip to Atlantis...  U21DKG18C   \n",
       "1  U21E41CQP  [{'text': 'Hello, I am looking to book a vacat...  U21DMV0KA   \n",
       "2  U21RP4FCY  [{'text': 'Hello there i am looking to go on a...  U21E0179B   \n",
       "3  U22HTHYNP  [{'text': 'Hi I'd like to go to Caprica from B...  U21DKG18C   \n",
       "4  U21E41CQP  [{'text': 'Hello, I am looking to book a trip ...  U21DMV0KA   \n",
       "\n",
       "                                     id  \\\n",
       "0  e2c0fc6c-2134-4891-8353-ef16d8412c9a   \n",
       "1  4a3bfa39-2c22-42c8-8694-32b4e34415e9   \n",
       "2  6e67ed28-e94c-4fab-96b6-68569a92682f   \n",
       "3  5ae76e50-5b48-4166-9f6d-67aaabd7bcaa   \n",
       "4  24603086-bb53-431e-a0d8-1dcc63518ba9   \n",
       "\n",
       "                                              labels  \n",
       "0  {'userSurveyRating': 4.0, 'wizardSurveyTaskSuc...  \n",
       "1  {'userSurveyRating': 3.0, 'wizardSurveyTaskSuc...  \n",
       "2  {'userSurveyRating': 2.0, 'wizardSurveyTaskSuc...  \n",
       "3  {'userSurveyRating': 5.0, 'wizardSurveyTaskSuc...  \n",
       "4  {'userSurveyRating': 5.0, 'wizardSurveyTaskSuc...  "
      ],
      "text/html": "<div>\n<style scoped>\n    .dataframe tbody tr th:only-of-type {\n        vertical-align: middle;\n    }\n\n    .dataframe tbody tr th {\n        vertical-align: top;\n    }\n\n    .dataframe thead th {\n        text-align: right;\n    }\n</style>\n<table border=\"1\" class=\"dataframe\">\n  <thead>\n    <tr style=\"text-align: right;\">\n      <th></th>\n      <th>user_id</th>\n      <th>turns</th>\n      <th>wizard_id</th>\n      <th>id</th>\n      <th>labels</th>\n    </tr>\n  </thead>\n  <tbody>\n    <tr>\n      <th>0</th>\n      <td>U22HTHYNP</td>\n      <td>[{'text': 'I'd like to book a trip to Atlantis...</td>\n      <td>U21DKG18C</td>\n      <td>e2c0fc6c-2134-4891-8353-ef16d8412c9a</td>\n      <td>{'userSurveyRating': 4.0, 'wizardSurveyTaskSuc...</td>\n    </tr>\n    <tr>\n      <th>1</th>\n      <td>U21E41CQP</td>\n      <td>[{'text': 'Hello, I am looking to book a vacat...</td>\n      <td>U21DMV0KA</td>\n      <td>4a3bfa39-2c22-42c8-8694-32b4e34415e9</td>\n      <td>{'userSurveyRating': 3.0, 'wizardSurveyTaskSuc...</td>\n    </tr>\n    <tr>\n      <th>2</th>\n      <td>U21RP4FCY</td>\n      <td>[{'text': 'Hello there i am looking to go on a...</td>\n      <td>U21E0179B</td>\n      <td>6e67ed28-e94c-4fab-96b6-68569a92682f</td>\n      <td>{'userSurveyRating': 2.0, 'wizardSurveyTaskSuc...</td>\n    </tr>\n    <tr>\n      <th>3</th>\n      <td>U22HTHYNP</td>\n      <td>[{'text': 'Hi I'd like to go to Caprica from B...</td>\n      <td>U21DKG18C</td>\n      <td>5ae76e50-5b48-4166-9f6d-67aaabd7bcaa</td>\n      <td>{'userSurveyRating': 5.0, 'wizardSurveyTaskSuc...</td>\n    </tr>\n    <tr>\n      <th>4</th>\n      <td>U21E41CQP</td>\n      <td>[{'text': 'Hello, I am looking to book a trip ...</td>\n      <td>U21DMV0KA</td>\n      <td>24603086-bb53-431e-a0d8-1dcc63518ba9</td>\n      <td>{'userSurveyRating': 5.0, 'wizardSurveyTaskSuc...</td>\n    </tr>\n  </tbody>\n</table>\n</div>"
     },
     "metadata": {},
     "execution_count": 6
    }
   ],
   "source": [
    "bot_conversation_df.head()"
   ]
  },
  {
   "cell_type": "markdown",
   "metadata": {},
   "source": [
    "<div class=\"alert alert-block alert-success\">  \n",
    "<strong>2. Exploration générale<a id='head-1-2'></a></strong>\n",
    "        \n",
    "</div>"
   ]
  },
  {
   "cell_type": "code",
   "execution_count": 10,
   "metadata": {},
   "outputs": [
    {
     "output_type": "stream",
     "name": "stdout",
     "text": [
      "Le jeu de données comprend 1369 dialogues entre les utilisateurs et les \"wizards\"\n"
     ]
    }
   ],
   "source": [
    "print(f'Le jeu de données comprend {bot_conversation_df.shape[0]} dialogues \\\n",
    "entre les utilisateurs et les \"wizards\"')"
   ]
  },
  {
   "cell_type": "code",
   "execution_count": 11,
   "metadata": {},
   "outputs": [
    {
     "output_type": "stream",
     "name": "stdout",
     "text": [
      "Il y a en tout 11 utilisateurs différents et 12 wizards\n"
     ]
    }
   ],
   "source": [
    "print(f'Il y a en tout {bot_conversation_df[\"user_id\"].nunique()} utilisateurs \\\n",
    "différents et {bot_conversation_df[\"wizard_id\"].nunique()} wizards')"
   ]
  },
  {
   "cell_type": "code",
   "execution_count": 12,
   "metadata": {},
   "outputs": [
    {
     "output_type": "execute_result",
     "data": {
      "text/plain": [
       "   userSurveyRating  wizardSurveyTaskSuccessful\n",
       "0               4.0                        True\n",
       "1               3.0                        True\n",
       "2               2.0                       False\n",
       "3               5.0                        True\n",
       "4               5.0                        True"
      ],
      "text/html": "<div>\n<style scoped>\n    .dataframe tbody tr th:only-of-type {\n        vertical-align: middle;\n    }\n\n    .dataframe tbody tr th {\n        vertical-align: top;\n    }\n\n    .dataframe thead th {\n        text-align: right;\n    }\n</style>\n<table border=\"1\" class=\"dataframe\">\n  <thead>\n    <tr style=\"text-align: right;\">\n      <th></th>\n      <th>userSurveyRating</th>\n      <th>wizardSurveyTaskSuccessful</th>\n    </tr>\n  </thead>\n  <tbody>\n    <tr>\n      <th>0</th>\n      <td>4.0</td>\n      <td>True</td>\n    </tr>\n    <tr>\n      <th>1</th>\n      <td>3.0</td>\n      <td>True</td>\n    </tr>\n    <tr>\n      <th>2</th>\n      <td>2.0</td>\n      <td>False</td>\n    </tr>\n    <tr>\n      <th>3</th>\n      <td>5.0</td>\n      <td>True</td>\n    </tr>\n    <tr>\n      <th>4</th>\n      <td>5.0</td>\n      <td>True</td>\n    </tr>\n  </tbody>\n</table>\n</div>"
     },
     "metadata": {},
     "execution_count": 12
    }
   ],
   "source": [
    "satisfaction_df = pd.json_normalize(bot_conversation_df['labels'])\n",
    "satisfaction_df.head()"
   ]
  },
  {
   "cell_type": "code",
   "execution_count": 17,
   "metadata": {},
   "outputs": [
    {
     "output_type": "stream",
     "name": "stdout",
     "text": [
      "La note moyenne donné par les utilisateurs est 4.57/5\n"
     ]
    }
   ],
   "source": [
    "print(f'La note moyenne donné par les utilisateurs est \\\n",
    "{round(satisfaction_df[\"userSurveyRating\"].mean(),2)}/5')"
   ]
  },
  {
   "cell_type": "code",
   "execution_count": 19,
   "metadata": {},
   "outputs": [
    {
     "output_type": "stream",
     "name": "stdout",
     "text": [
      "Le wizard arrive à aider l utilisateur dans 94.0 % des cas\n"
     ]
    }
   ],
   "source": [
    "print(f'Le wizard arrive à aider l utilisateur dans \\\n",
    "{round(satisfaction_df[\"wizardSurveyTaskSuccessful\"].mean()*100,1)} % des cas')"
   ]
  },
  {
   "cell_type": "markdown",
   "metadata": {},
   "source": [
    "<div class=\"alert alert-block alert-success\">  \n",
    "<strong>3. La colonne Turns<a id='head-1-2'></a></strong>\n",
    "        \n",
    "</div>"
   ]
  },
  {
   "cell_type": "markdown",
   "metadata": {},
   "source": [
    "Maintenant le jeu de données sera uniquement analyser grâce au json (sans passer par le dataframe) : "
   ]
  },
  {
   "cell_type": "markdown",
   "metadata": {},
   "source": [
    "*a) On filtre sur la colonne turns*"
   ]
  },
  {
   "cell_type": "code",
   "execution_count": 20,
   "metadata": {},
   "outputs": [],
   "source": [
    "turns_serie = bot_conversation_df['turns']"
   ]
  },
  {
   "cell_type": "code",
   "execution_count": 21,
   "metadata": {},
   "outputs": [],
   "source": [
    "turns_list = turns_serie.to_list()"
   ]
  },
  {
   "cell_type": "code",
   "execution_count": 22,
   "metadata": {},
   "outputs": [
    {
     "output_type": "execute_result",
     "data": {
      "text/plain": [
       "[{'text': \"I'd like to book a trip to Atlantis from Caprica on Saturday, August 13, 2016 for 8 adults. I have a tight budget of 1700.\",\n",
       "  'labels': {'acts': [{'args': [{'val': 'book', 'key': 'intent'}],\n",
       "     'name': 'inform'},\n",
       "    {'args': [{'val': 'Atlantis', 'key': 'dst_city'},\n",
       "      {'val': 'Caprica', 'key': 'or_city'},\n",
       "      {'val': 'Saturday, August 13, 2016', 'key': 'str_date'},\n",
       "      {'val': '8', 'key': 'n_adults'},\n",
       "      {'val': '1700', 'key': 'budget'}],\n",
       "     'name': 'inform'}],\n",
       "   'acts_without_refs': [{'args': [{'val': 'book', 'key': 'intent'}],\n",
       "     'name': 'inform'},\n",
       "    {'args': [{'val': 'Atlantis', 'key': 'dst_city'},\n",
       "      {'val': 'Caprica', 'key': 'or_city'},\n",
       "      {'val': 'Saturday, August 13, 2016', 'key': 'str_date'},\n",
       "      {'val': '8', 'key': 'n_adults'},\n",
       "      {'val': '1700', 'key': 'budget'}],\n",
       "     'name': 'inform'}],\n",
       "   'active_frame': 1,\n",
       "   'frames': [{'info': {'intent': [{'val': 'book', 'negated': False}],\n",
       "      'budget': [{'val': '1700.0', 'negated': False}],\n",
       "      'dst_city': [{'val': 'Atlantis', 'negated': False}],\n",
       "      'or_city': [{'val': 'Caprica', 'negated': False}],\n",
       "      'str_date': [{'val': 'august 13', 'negated': False}],\n",
       "      'n_adults': [{'val': '8', 'negated': False}]},\n",
       "     'frame_id': 1,\n",
       "     'requests': [],\n",
       "     'frame_parent_id': None,\n",
       "     'binary_questions': [],\n",
       "     'compare_requests': []}]},\n",
       "  'author': 'user',\n",
       "  'timestamp': 1471272019730.0},\n",
       " {'db': {'result': [[{'trip': {'returning': {'duration': {'hours': 0,\n",
       "         'min': 51},\n",
       "        'arrival': {'hour': 10,\n",
       "         'year': 2016,\n",
       "         'day': 24,\n",
       "         'min': 51,\n",
       "         'month': 8},\n",
       "        'departure': {'hour': 10,\n",
       "         'year': 2016,\n",
       "         'day': 24,\n",
       "         'min': 0,\n",
       "         'month': 8}},\n",
       "       'seat': 'ECONOMY',\n",
       "       'leaving': {'duration': {'hours': 0, 'min': 51},\n",
       "        'arrival': {'hour': 0, 'year': 2016, 'day': 16, 'min': 51, 'month': 8},\n",
       "        'departure': {'hour': 0,\n",
       "         'year': 2016,\n",
       "         'day': 16,\n",
       "         'min': 0,\n",
       "         'month': 8}},\n",
       "       'or_city': 'Porto Alegre',\n",
       "       'duration_days': 9},\n",
       "      'price': 2118.81,\n",
       "      'hotel': {'gst_rating': 7.15,\n",
       "       'vicinity': [],\n",
       "       'name': 'Scarlet Palms Resort',\n",
       "       'country': 'Brazil',\n",
       "       'amenities': ['FREE_BREAKFAST', 'FREE_PARKING', 'FREE_WIFI'],\n",
       "       'dst_city': 'Goiania',\n",
       "       'category': '3.5 star hotel'}},\n",
       "     {'trip': {'returning': {'duration': {'hours': 2, 'min': 37},\n",
       "        'arrival': {'hour': 12,\n",
       "         'year': 2016,\n",
       "         'day': 10,\n",
       "         'min': 37,\n",
       "         'month': 8},\n",
       "        'departure': {'hour': 10,\n",
       "         'year': 2016,\n",
       "         'day': 10,\n",
       "         'min': 0,\n",
       "         'month': 8}},\n",
       "       'seat': 'ECONOMY',\n",
       "       'leaving': {'duration': {'hours': 2, 'min': 37},\n",
       "        'arrival': {'hour': 0, 'year': 2016, 'day': 4, 'min': 37, 'month': 8},\n",
       "        'departure': {'hour': 22,\n",
       "         'year': 2016,\n",
       "         'day': 3,\n",
       "         'min': 0,\n",
       "         'month': 8}},\n",
       "       'or_city': 'Porto Alegre',\n",
       "       'duration_days': 7},\n",
       "      'price': 2369.83,\n",
       "      'hotel': {'gst_rating': 0,\n",
       "       'vicinity': [],\n",
       "       'name': 'Sunway Hostel',\n",
       "       'country': 'Argentina',\n",
       "       'amenities': ['FREE_BREAKFAST', 'FREE_WIFI'],\n",
       "       'dst_city': 'Rosario',\n",
       "       'category': '2.0 star hotel'}},\n",
       "     {'trip': {'returning': {'duration': {'hours': 0, 'min': 51},\n",
       "        'arrival': {'hour': 10,\n",
       "         'year': 2016,\n",
       "         'day': 24,\n",
       "         'min': 51,\n",
       "         'month': 8},\n",
       "        'departure': {'hour': 10,\n",
       "         'year': 2016,\n",
       "         'day': 24,\n",
       "         'min': 0,\n",
       "         'month': 8}},\n",
       "       'seat': 'BUSINESS',\n",
       "       'leaving': {'duration': {'hours': 0, 'min': 51},\n",
       "        'arrival': {'hour': 0, 'year': 2016, 'day': 16, 'min': 51, 'month': 8},\n",
       "        'departure': {'hour': 0,\n",
       "         'year': 2016,\n",
       "         'day': 16,\n",
       "         'min': 0,\n",
       "         'month': 8}},\n",
       "       'or_city': 'Porto Alegre',\n",
       "       'duration_days': 9},\n",
       "      'price': 2375.72,\n",
       "      'hotel': {'gst_rating': 7.15,\n",
       "       'vicinity': [],\n",
       "       'name': 'Scarlet Palms Resort',\n",
       "       'country': 'Brazil',\n",
       "       'amenities': ['FREE_BREAKFAST', 'FREE_PARKING', 'FREE_WIFI'],\n",
       "       'dst_city': 'Goiania',\n",
       "       'category': '3.5 star hotel'}},\n",
       "     {'trip': {'returning': {'duration': {'hours': 1, 'min': 30},\n",
       "        'arrival': {'hour': 11, 'year': 2016, 'day': 1, 'min': 30, 'month': 9},\n",
       "        'departure': {'hour': 10,\n",
       "         'year': 2016,\n",
       "         'day': 1,\n",
       "         'min': 0,\n",
       "         'month': 9}},\n",
       "       'seat': 'BUSINESS',\n",
       "       'leaving': {'duration': {'hours': 1, 'min': 30},\n",
       "        'arrival': {'hour': 18,\n",
       "         'year': 2016,\n",
       "         'day': 19,\n",
       "         'min': 30,\n",
       "         'month': 8},\n",
       "        'departure': {'hour': 17,\n",
       "         'year': 2016,\n",
       "         'day': 19,\n",
       "         'min': 0,\n",
       "         'month': 8}},\n",
       "       'or_city': 'Porto Alegre',\n",
       "       'duration_days': 13},\n",
       "      'price': 2492.95,\n",
       "      'hotel': {'gst_rating': 0,\n",
       "       'vicinity': [],\n",
       "       'name': 'Hotel Mundo',\n",
       "       'country': 'Brazil',\n",
       "       'amenities': ['FREE_BREAKFAST', 'FREE_WIFI', 'FREE_PARKING'],\n",
       "       'dst_city': 'Manaus',\n",
       "       'category': '2.5 star hotel'}},\n",
       "     {'trip': {'returning': {'duration': {'hours': 0, 'min': 51},\n",
       "        'arrival': {'hour': 10,\n",
       "         'year': 2016,\n",
       "         'day': 31,\n",
       "         'min': 51,\n",
       "         'month': 8},\n",
       "        'departure': {'hour': 10,\n",
       "         'year': 2016,\n",
       "         'day': 31,\n",
       "         'min': 0,\n",
       "         'month': 8}},\n",
       "       'seat': 'ECONOMY',\n",
       "       'leaving': {'duration': {'hours': 0, 'min': 51},\n",
       "        'arrival': {'hour': 19,\n",
       "         'year': 2016,\n",
       "         'day': 27,\n",
       "         'min': 51,\n",
       "         'month': 8},\n",
       "        'departure': {'hour': 19,\n",
       "         'year': 2016,\n",
       "         'day': 27,\n",
       "         'min': 0,\n",
       "         'month': 8}},\n",
       "       'or_city': 'Porto Alegre',\n",
       "       'duration_days': 4},\n",
       "      'price': 2538.0,\n",
       "      'hotel': {'gst_rating': 8.22,\n",
       "       'vicinity': [],\n",
       "       'name': 'The Glee',\n",
       "       'country': 'Brazil',\n",
       "       'amenities': ['FREE_BREAKFAST', 'FREE_WIFI'],\n",
       "       'dst_city': 'Recife',\n",
       "       'category': '4.0 star hotel'}}],\n",
       "    [],\n",
       "    [],\n",
       "    [],\n",
       "    [],\n",
       "    [],\n",
       "    []],\n",
       "   'search': [{'ORIGIN_CITY': 'Porto Alegre',\n",
       "     'PRICE_MIN': '2000',\n",
       "     'NUM_ADULTS': '2',\n",
       "     'timestamp': 1471271949.995,\n",
       "     'PRICE_MAX': '3000',\n",
       "     'ARE_DATES_FLEXIBLE': 'true',\n",
       "     'NUM_CHILDREN': '5',\n",
       "     'START_TIME': '1470110400000',\n",
       "     'MAX_DURATION': 2592000000.0,\n",
       "     'DESTINATION_CITY': 'Brazil',\n",
       "     'RESULT_LIMIT': '10',\n",
       "     'END_TIME': '1472616000000'},\n",
       "    {'ORIGIN_CITY': 'Atlantis',\n",
       "     'NUM_ADULTS': '8',\n",
       "     'RESULT_LIMIT': '10',\n",
       "     'timestamp': 1471272148.124,\n",
       "     'PRICE_MAX': '1700',\n",
       "     'NUM_CHILDREN': '',\n",
       "     'ARE_DATES_FLEXIBLE': 'true',\n",
       "     'START_TIME': 'NaN',\n",
       "     'END_TIME': 'NaN'},\n",
       "    {'ORIGIN_CITY': 'Caprica',\n",
       "     'PRICE_MAX': '1700',\n",
       "     'NUM_ADULTS': '8',\n",
       "     'RESULT_LIMIT': '10',\n",
       "     'timestamp': 1471272189.07,\n",
       "     'DESTINATION_CITY': 'Atlantis',\n",
       "     'NUM_CHILDREN': '',\n",
       "     'ARE_DATES_FLEXIBLE': 'true',\n",
       "     'START_TIME': '1470715200000',\n",
       "     'END_TIME': '1472011200000'},\n",
       "    {'ORIGIN_CITY': 'Caprica',\n",
       "     'PRICE_MAX': '1700',\n",
       "     'NUM_ADULTS': '8',\n",
       "     'RESULT_LIMIT': '10',\n",
       "     'timestamp': 1471272205.436,\n",
       "     'DESTINATION_CITY': 'Atlantis',\n",
       "     'NUM_CHILDREN': '',\n",
       "     'ARE_DATES_FLEXIBLE': 'true',\n",
       "     'START_TIME': '1470715200000',\n",
       "     'END_TIME': '1472011200000'},\n",
       "    {'ORIGIN_CITY': 'Caprica',\n",
       "     'PRICE_MIN': '1700',\n",
       "     'NUM_ADULTS': '8',\n",
       "     'RESULT_LIMIT': '10',\n",
       "     'timestamp': 1471272278.72,\n",
       "     'DESTINATION_CITY': 'Atlantis',\n",
       "     'NUM_CHILDREN': '',\n",
       "     'ARE_DATES_FLEXIBLE': 'true',\n",
       "     'START_TIME': '1470715200000',\n",
       "     'END_TIME': '1472011200000'},\n",
       "    {'ORIGIN_CITY': 'Caprica',\n",
       "     'PRICE_MIN': '1700',\n",
       "     'NUM_ADULTS': '8',\n",
       "     'RESULT_LIMIT': '10',\n",
       "     'timestamp': 1471272454.542,\n",
       "     'DESTINATION_CITY': 'Atlantis',\n",
       "     'NUM_CHILDREN': '',\n",
       "     'ARE_DATES_FLEXIBLE': 'true',\n",
       "     'START_TIME': '1471060800000',\n",
       "     'END_TIME': '1472011200000'},\n",
       "    {'ORIGIN_CITY': 'Caprica',\n",
       "     'PRICE_MIN': '1700',\n",
       "     'NUM_ADULTS': '8',\n",
       "     'RESULT_LIMIT': '10',\n",
       "     'timestamp': 1471272466.008,\n",
       "     'DESTINATION_CITY': 'Atlantis',\n",
       "     'NUM_CHILDREN': '',\n",
       "     'ARE_DATES_FLEXIBLE': 'true',\n",
       "     'START_TIME': '1471060800000',\n",
       "     'END_TIME': '1472011200000'}]},\n",
       "  'text': 'Hi...I checked a few options for you, and unfortunately, we do not currently have any trips that meet this criteria.  Would you like to book an alternate travel option?',\n",
       "  'labels': {'acts': [{'args': [{'val': [{'annotations': [],\n",
       "         'frame': 1,\n",
       "         'fromrange': False}],\n",
       "       'key': 'ref'}],\n",
       "     'name': 'no_result'},\n",
       "    {'args': [{'key': 'dst_city'}], 'name': 'suggest'},\n",
       "    {'args': [], 'name': 'sorry'}],\n",
       "   'active_frame': 1,\n",
       "   'frames': [{'info': {'intent': [{'val': 'book', 'negated': False}],\n",
       "      'budget': [{'val': '1700.0', 'negated': False}],\n",
       "      'dst_city': [{'val': 'Atlantis', 'negated': False}],\n",
       "      'or_city': [{'val': 'Caprica', 'negated': False}],\n",
       "      'str_date': [{'val': 'august 13', 'negated': False}],\n",
       "      'n_adults': [{'val': '8', 'negated': False}],\n",
       "      'NO_RESULT': [{'val': True, 'negated': False}]},\n",
       "     'frame_id': 1,\n",
       "     'requests': [],\n",
       "     'frame_parent_id': None,\n",
       "     'binary_questions': [],\n",
       "     'compare_requests': []}]},\n",
       "  'author': 'wizard',\n",
       "  'timestamp': 1471272381399.0},\n",
       " {'text': 'Yes, how about going to Neverland from Caprica on August 13, 2016 for 5 adults. For this trip, my budget would be 1900.',\n",
       "  'labels': {'acts': [{'args': [{'val': 'Neverland', 'key': 'dst_city'},\n",
       "      {'val': '5', 'key': 'n_adults'},\n",
       "      {'val': '1900', 'key': 'budget'},\n",
       "      {'val': [{'annotations': [{'val': 'Caprica', 'key': 'or_city'},\n",
       "          {'val': 'August 13, 2016', 'key': 'str_date'}],\n",
       "         'frame': 1,\n",
       "         'fromrange': False}],\n",
       "       'key': 'ref'}],\n",
       "     'name': 'inform'}],\n",
       "   'acts_without_refs': [{'args': [{'val': 'Neverland', 'key': 'dst_city'},\n",
       "      {'val': '5', 'key': 'n_adults'},\n",
       "      {'val': '1900', 'key': 'budget'},\n",
       "      {'val': 'Caprica', 'key': 'or_city'},\n",
       "      {'val': 'August 13, 2016', 'key': 'str_date'}],\n",
       "     'name': 'inform'}],\n",
       "   'active_frame': 2,\n",
       "   'frames': [{'info': {'intent': [{'val': 'book', 'negated': False}],\n",
       "      'budget': [{'val': '1700.0', 'negated': False}],\n",
       "      'dst_city': [{'val': 'Atlantis', 'negated': False}],\n",
       "      'or_city': [{'val': 'Caprica', 'negated': False}],\n",
       "      'str_date': [{'val': 'august 13', 'negated': False}],\n",
       "      'n_adults': [{'val': '8', 'negated': False}],\n",
       "      'NO_RESULT': [{'val': True, 'negated': False}]},\n",
       "     'frame_id': 1,\n",
       "     'requests': [],\n",
       "     'frame_parent_id': None,\n",
       "     'binary_questions': [],\n",
       "     'compare_requests': []},\n",
       "    {'info': {'intent': [{'val': 'book', 'negated': False}],\n",
       "      'budget': [{'val': '1900.0', 'negated': False}],\n",
       "      'dst_city': [{'val': 'Neverland', 'negated': False}],\n",
       "      'or_city': [{'val': 'Caprica', 'negated': False}],\n",
       "      'str_date': [{'val': 'august 13', 'negated': False}],\n",
       "      'n_adults': [{'val': '5', 'negated': False}]},\n",
       "     'frame_id': 2,\n",
       "     'requests': [],\n",
       "     'frame_parent_id': 1,\n",
       "     'binary_questions': [],\n",
       "     'compare_requests': []}]},\n",
       "  'author': 'user',\n",
       "  'timestamp': 1471272508882.0},\n",
       " {'db': {'result': [[], [], [], [], [], []],\n",
       "   'search': [{'ORIGIN_CITY': 'Caprica',\n",
       "     'PRICE_MIN': '1700',\n",
       "     'NUM_ADULTS': '8',\n",
       "     'RESULT_LIMIT': '10',\n",
       "     'timestamp': 1471272454.542,\n",
       "     'DESTINATION_CITY': 'Atlantis',\n",
       "     'NUM_CHILDREN': '',\n",
       "     'ARE_DATES_FLEXIBLE': 'true',\n",
       "     'START_TIME': '1471060800000',\n",
       "     'END_TIME': '1472011200000'},\n",
       "    {'ORIGIN_CITY': 'Caprica',\n",
       "     'PRICE_MIN': '1700',\n",
       "     'NUM_ADULTS': '8',\n",
       "     'RESULT_LIMIT': '10',\n",
       "     'timestamp': 1471272466.008,\n",
       "     'DESTINATION_CITY': 'Atlantis',\n",
       "     'NUM_CHILDREN': '',\n",
       "     'ARE_DATES_FLEXIBLE': 'true',\n",
       "     'START_TIME': '1471060800000',\n",
       "     'END_TIME': '1472011200000'},\n",
       "    {'ORIGIN_CITY': 'Caprica',\n",
       "     'PRICE_MAX': '1900',\n",
       "     'NUM_ADULTS': '5',\n",
       "     'RESULT_LIMIT': '10',\n",
       "     'timestamp': 1471272562.484,\n",
       "     'DESTINATION_CITY': 'Neverland',\n",
       "     'NUM_CHILDREN': '',\n",
       "     'ARE_DATES_FLEXIBLE': 'true',\n",
       "     'START_TIME': '1471060800000',\n",
       "     'END_TIME': '1472011200000'},\n",
       "    {'ORIGIN_CITY': 'Caprica',\n",
       "     'PRICE_MAX': '1900',\n",
       "     'NUM_ADULTS': '5',\n",
       "     'RESULT_LIMIT': '10',\n",
       "     'timestamp': 1471272571.739,\n",
       "     'DESTINATION_CITY': 'Neverland',\n",
       "     'NUM_CHILDREN': '',\n",
       "     'ARE_DATES_FLEXIBLE': 'true',\n",
       "     'START_TIME': '1471060800000',\n",
       "     'END_TIME': '1472011200000'},\n",
       "    {'ORIGIN_CITY': 'Caprica',\n",
       "     'NUM_ADULTS': '5',\n",
       "     'RESULT_LIMIT': '10',\n",
       "     'timestamp': 1471272625.733,\n",
       "     'DESTINATION_CITY': 'Neverland',\n",
       "     'NUM_CHILDREN': '',\n",
       "     'ARE_DATES_FLEXIBLE': 'true',\n",
       "     'START_TIME': '1471060800000',\n",
       "     'END_TIME': 'NaN'},\n",
       "    {'ORIGIN_CITY': 'Caprica',\n",
       "     'NUM_ADULTS': '5',\n",
       "     'RESULT_LIMIT': '10',\n",
       "     'timestamp': 1471272628.27,\n",
       "     'DESTINATION_CITY': 'Neverland',\n",
       "     'NUM_CHILDREN': '',\n",
       "     'ARE_DATES_FLEXIBLE': 'true',\n",
       "     'START_TIME': '1471060800000',\n",
       "     'END_TIME': 'NaN'}]},\n",
       "  'text': 'I checked the availability for this date and there were no trips available.  Would you like to select some alternate dates?',\n",
       "  'labels': {'acts': [{'args': [{'val': [{'annotations': [{'val': None,\n",
       "           'key': 'str_date'}],\n",
       "         'frame': 2,\n",
       "         'fromrange': False}],\n",
       "       'key': 'ref'}],\n",
       "     'name': 'no_result'},\n",
       "    {'args': [{'key': 'str_date'}, {'key': 'end_date'}], 'name': 'suggest'}],\n",
       "   'active_frame': 2,\n",
       "   'frames': [{'info': {'intent': [{'val': 'book', 'negated': False}],\n",
       "      'budget': [{'val': '1700.0', 'negated': False}],\n",
       "      'dst_city': [{'val': 'Atlantis', 'negated': False}],\n",
       "      'or_city': [{'val': 'Caprica', 'negated': False}],\n",
       "      'str_date': [{'val': 'august 13', 'negated': False}],\n",
       "      'n_adults': [{'val': '8', 'negated': False}],\n",
       "      'NO_RESULT': [{'val': True, 'negated': False}]},\n",
       "     'frame_id': 1,\n",
       "     'requests': [],\n",
       "     'frame_parent_id': None,\n",
       "     'binary_questions': [],\n",
       "     'compare_requests': []},\n",
       "    {'info': {'intent': [{'val': 'book', 'negated': False}],\n",
       "      'budget': [{'val': '1900.0', 'negated': False}],\n",
       "      'dst_city': [{'val': 'Neverland', 'negated': False}],\n",
       "      'or_city': [{'val': 'Caprica', 'negated': False}],\n",
       "      'str_date': [{'val': 'august 13', 'negated': False}],\n",
       "      'n_adults': [{'val': '5', 'negated': False}],\n",
       "      'NO_RESULT': [{'val': True, 'negated': False}]},\n",
       "     'frame_id': 2,\n",
       "     'requests': [],\n",
       "     'frame_parent_id': 1,\n",
       "     'binary_questions': [],\n",
       "     'compare_requests': []}]},\n",
       "  'author': 'wizard',\n",
       "  'timestamp': 1471272800073.0},\n",
       " {'text': 'I have no flexibility for dates... but I can leave from Atlantis rather than Caprica. How about that?',\n",
       "  'labels': {'acts': [{'args': [{'val': False, 'key': 'flex'}],\n",
       "     'name': 'inform'},\n",
       "    {'args': [{'val': 'Atlantis', 'key': 'or_city'}], 'name': 'inform'},\n",
       "    {'args': [{'val': [{'annotations': [{'val': 'Caprica', 'key': 'or_city'}],\n",
       "         'frame': 1,\n",
       "         'fromrange': False}],\n",
       "       'key': 'ref'}],\n",
       "     'name': 'negate'}],\n",
       "   'acts_without_refs': [{'args': [{'val': False, 'key': 'flex'}],\n",
       "     'name': 'inform'},\n",
       "    {'args': [{'val': 'Atlantis', 'key': 'or_city'}], 'name': 'inform'},\n",
       "    {'args': [{'val': 'Caprica', 'key': 'or_city'}], 'name': 'negate'}],\n",
       "   'active_frame': 3,\n",
       "   'frames': [{'info': {'intent': [{'val': 'book', 'negated': False}],\n",
       "      'budget': [{'val': '1700.0', 'negated': False}],\n",
       "      'dst_city': [{'val': 'Atlantis', 'negated': False}],\n",
       "      'or_city': [{'val': 'Caprica', 'negated': True}],\n",
       "      'str_date': [{'val': 'august 13', 'negated': False}],\n",
       "      'n_adults': [{'val': '8', 'negated': False}]},\n",
       "     'frame_id': 1,\n",
       "     'requests': [],\n",
       "     'frame_parent_id': None,\n",
       "     'binary_questions': [],\n",
       "     'compare_requests': []},\n",
       "    {'info': {'intent': [{'val': 'book', 'negated': False}],\n",
       "      'budget': [{'val': '1900.0', 'negated': False}],\n",
       "      'dst_city': [{'val': 'Neverland', 'negated': False}],\n",
       "      'or_city': [{'val': 'Caprica', 'negated': False}],\n",
       "      'str_date': [{'val': 'august 13', 'negated': False}],\n",
       "      'n_adults': [{'val': '5', 'negated': False}],\n",
       "      'NO_RESULT': [{'val': True, 'negated': False}]},\n",
       "     'frame_id': 2,\n",
       "     'requests': [],\n",
       "     'frame_parent_id': 1,\n",
       "     'binary_questions': [],\n",
       "     'compare_requests': []},\n",
       "    {'info': {'intent': [{'val': 'book', 'negated': False}],\n",
       "      'budget': [{'val': '1700.0', 'negated': False}],\n",
       "      'flex': [{'val': False, 'negated': False}],\n",
       "      'dst_city': [{'val': 'Atlantis', 'negated': False}],\n",
       "      'or_city': [{'val': 'Atlantis', 'negated': False}],\n",
       "      'str_date': [{'val': 'august 13', 'negated': False}],\n",
       "      'n_adults': [{'val': '8', 'negated': False}]},\n",
       "     'frame_id': 3,\n",
       "     'requests': [],\n",
       "     'frame_parent_id': 1,\n",
       "     'binary_questions': [],\n",
       "     'compare_requests': []}]},\n",
       "  'author': 'user',\n",
       "  'timestamp': 1471272833774.0},\n",
       " {'db': {'result': [[]],\n",
       "   'search': [{'ORIGIN_CITY': 'Atlantis',\n",
       "     'PRICE_MAX': '1900',\n",
       "     'NUM_ADULTS': '5',\n",
       "     'RESULT_LIMIT': '10',\n",
       "     'timestamp': 1471272866.853,\n",
       "     'DESTINATION_CITY': 'Neverland',\n",
       "     'NUM_CHILDREN': '',\n",
       "     'ARE_DATES_FLEXIBLE': 'true',\n",
       "     'START_TIME': '1471060800000',\n",
       "     'END_TIME': 'NaN'}]},\n",
       "  'text': 'I checked the availability for that date and there were no trips available.  Would you like to select some alternate dates?',\n",
       "  'labels': {'acts': [{'args': [{'val': [{'annotations': [{'val': None,\n",
       "           'key': 'str_date'}],\n",
       "         'frame': 3,\n",
       "         'fromrange': False}],\n",
       "       'key': 'ref'}],\n",
       "     'name': 'no_result'},\n",
       "    {'args': [{'key': 'str_date'}, {'key': 'end_date'}], 'name': 'suggest'}],\n",
       "   'active_frame': 3,\n",
       "   'frames': [{'info': {'intent': [{'val': 'book', 'negated': False}],\n",
       "      'budget': [{'val': '1700.0', 'negated': False}],\n",
       "      'dst_city': [{'val': 'Atlantis', 'negated': False}],\n",
       "      'or_city': [{'val': 'Caprica', 'negated': True}],\n",
       "      'str_date': [{'val': 'august 13', 'negated': False}],\n",
       "      'n_adults': [{'val': '8', 'negated': False}]},\n",
       "     'frame_id': 1,\n",
       "     'requests': [],\n",
       "     'frame_parent_id': None,\n",
       "     'binary_questions': [],\n",
       "     'compare_requests': []},\n",
       "    {'info': {'intent': [{'val': 'book', 'negated': False}],\n",
       "      'budget': [{'val': '1900.0', 'negated': False}],\n",
       "      'dst_city': [{'val': 'Neverland', 'negated': False}],\n",
       "      'or_city': [{'val': 'Caprica', 'negated': False}],\n",
       "      'str_date': [{'val': 'august 13', 'negated': False}],\n",
       "      'n_adults': [{'val': '5', 'negated': False}],\n",
       "      'NO_RESULT': [{'val': True, 'negated': False}]},\n",
       "     'frame_id': 2,\n",
       "     'requests': [],\n",
       "     'frame_parent_id': 1,\n",
       "     'binary_questions': [],\n",
       "     'compare_requests': []},\n",
       "    {'info': {'intent': [{'val': 'book', 'negated': False}],\n",
       "      'budget': [{'val': '1700.0', 'negated': False}],\n",
       "      'flex': [{'val': False, 'negated': False}],\n",
       "      'dst_city': [{'val': 'Atlantis', 'negated': False}],\n",
       "      'or_city': [{'val': 'Atlantis', 'negated': False}],\n",
       "      'str_date': [{'val': 'august 13', 'negated': False}],\n",
       "      'n_adults': [{'val': '8', 'negated': False}],\n",
       "      'NO_RESULT': [{'val': True, 'negated': False}]},\n",
       "     'frame_id': 3,\n",
       "     'requests': [],\n",
       "     'frame_parent_id': 1,\n",
       "     'binary_questions': [],\n",
       "     'compare_requests': []}]},\n",
       "  'author': 'wizard',\n",
       "  'timestamp': 1471273283370},\n",
       " {'text': \"I suppose I'll speak with my husband to see if we can choose other dates, and then I'll come back to you.Thanks for your help\",\n",
       "  'labels': {'acts': [{'args': [], 'name': 'thankyou'}],\n",
       "   'acts_without_refs': [{'args': [], 'name': 'thankyou'}],\n",
       "   'active_frame': 3,\n",
       "   'frames': [{'info': {'intent': [{'val': 'book', 'negated': False}],\n",
       "      'budget': [{'val': '1700.0', 'negated': False}],\n",
       "      'dst_city': [{'val': 'Atlantis', 'negated': False}],\n",
       "      'or_city': [{'val': 'Caprica', 'negated': True}],\n",
       "      'str_date': [{'val': 'august 13', 'negated': False}],\n",
       "      'n_adults': [{'val': '8', 'negated': False}]},\n",
       "     'frame_id': 1,\n",
       "     'requests': [],\n",
       "     'frame_parent_id': None,\n",
       "     'binary_questions': [],\n",
       "     'compare_requests': []},\n",
       "    {'info': {'intent': [{'val': 'book', 'negated': False}],\n",
       "      'budget': [{'val': '1900.0', 'negated': False}],\n",
       "      'dst_city': [{'val': 'Neverland', 'negated': False}],\n",
       "      'or_city': [{'val': 'Caprica', 'negated': False}],\n",
       "      'str_date': [{'val': 'august 13', 'negated': False}],\n",
       "      'n_adults': [{'val': '5', 'negated': False}],\n",
       "      'NO_RESULT': [{'val': True, 'negated': False}]},\n",
       "     'frame_id': 2,\n",
       "     'requests': [],\n",
       "     'frame_parent_id': 1,\n",
       "     'binary_questions': [],\n",
       "     'compare_requests': []},\n",
       "    {'info': {'intent': [{'val': 'book', 'negated': False}],\n",
       "      'budget': [{'val': '1700.0', 'negated': False}],\n",
       "      'flex': [{'val': False, 'negated': False}],\n",
       "      'dst_city': [{'val': 'Atlantis', 'negated': False}],\n",
       "      'or_city': [{'val': 'Atlantis', 'negated': False}],\n",
       "      'str_date': [{'val': 'august 13', 'negated': False}],\n",
       "      'n_adults': [{'val': '8', 'negated': False}],\n",
       "      'NO_RESULT': [{'val': True, 'negated': False}]},\n",
       "     'frame_id': 3,\n",
       "     'requests': [],\n",
       "     'frame_parent_id': 1,\n",
       "     'binary_questions': [],\n",
       "     'compare_requests': []}]},\n",
       "  'author': 'user',\n",
       "  'timestamp': 1471273458251}]"
      ]
     },
     "metadata": {},
     "execution_count": 22
    }
   ],
   "source": [
    "turns_list[0][]"
   ]
  },
  {
   "cell_type": "markdown",
   "metadata": {},
   "source": [
    "Chaque valeur de turns_list correspond à une conversation en entier \n",
    "\n",
    "Une conversation est une liste de plusieurs dialogues\n",
    "\n",
    "Par exemple, ci dessous, le 1er dialogue de la premiere conversation :"
   ]
  },
  {
   "cell_type": "code",
   "execution_count": 65,
   "metadata": {},
   "outputs": [
    {
     "data": {
      "text/plain": [
       "{'text': \"I'd like to book a trip to Atlantis from Caprica on Saturday, August 13, 2016 for 8 adults. I have a tight budget of 1700.\",\n",
       " 'labels': {'acts': [{'args': [{'val': 'book', 'key': 'intent'}],\n",
       "    'name': 'inform'},\n",
       "   {'args': [{'val': 'Atlantis', 'key': 'dst_city'},\n",
       "     {'val': 'Caprica', 'key': 'or_city'},\n",
       "     {'val': 'Saturday, August 13, 2016', 'key': 'str_date'},\n",
       "     {'val': '8', 'key': 'n_adults'},\n",
       "     {'val': '1700', 'key': 'budget'}],\n",
       "    'name': 'inform'}],\n",
       "  'acts_without_refs': [{'args': [{'val': 'book', 'key': 'intent'}],\n",
       "    'name': 'inform'},\n",
       "   {'args': [{'val': 'Atlantis', 'key': 'dst_city'},\n",
       "     {'val': 'Caprica', 'key': 'or_city'},\n",
       "     {'val': 'Saturday, August 13, 2016', 'key': 'str_date'},\n",
       "     {'val': '8', 'key': 'n_adults'},\n",
       "     {'val': '1700', 'key': 'budget'}],\n",
       "    'name': 'inform'}],\n",
       "  'active_frame': 1,\n",
       "  'frames': [{'info': {'intent': [{'val': 'book', 'negated': False}],\n",
       "     'budget': [{'val': '1700.0', 'negated': False}],\n",
       "     'dst_city': [{'val': 'Atlantis', 'negated': False}],\n",
       "     'or_city': [{'val': 'Caprica', 'negated': False}],\n",
       "     'str_date': [{'val': 'august 13', 'negated': False}],\n",
       "     'n_adults': [{'val': '8', 'negated': False}]},\n",
       "    'frame_id': 1,\n",
       "    'requests': [],\n",
       "    'frame_parent_id': None,\n",
       "    'binary_questions': [],\n",
       "    'compare_requests': []}]},\n",
       " 'author': 'user',\n",
       " 'timestamp': 1471272019730.0}"
      ]
     },
     "execution_count": 65,
     "metadata": {},
     "output_type": "execute_result"
    }
   ],
   "source": [
    "turns_list[0]"
   ]
  },
  {
   "cell_type": "code",
   "execution_count": 66,
   "metadata": {},
   "outputs": [
    {
     "data": {
      "text/plain": [
       "dict_keys(['text', 'labels', 'author', 'timestamp'])"
      ]
     },
     "execution_count": 66,
     "metadata": {},
     "output_type": "execute_result"
    }
   ],
   "source": [
    "turns_list[0][0].keys()"
   ]
  },
  {
   "attachments": {
    "800112d3-9310-488b-89f9-e80237a15469.png": {
     "image/png": "[encoded data removed]"
    }
   },
   "cell_type": "markdown",
   "metadata": {},
   "source": [
    "![image.png](attachment:800112d3-9310-488b-89f9-e80237a15469.png)"
   ]
  },
  {
   "cell_type": "markdown",
   "metadata": {},
   "source": [
    "**1- l'utilisateur**"
   ]
  },
  {
   "cell_type": "markdown",
   "metadata": {},
   "source": [
    "Pour la suite, nous récupèrerons uniquement les dialogues dont author = \"user\".\n",
    "\n",
    "Cette valeur est présente dans :"
   ]
  },
  {
   "cell_type": "code",
   "execution_count": 68,
   "metadata": {},
   "outputs": [
    {
     "data": {
      "text/plain": [
       "'user'"
      ]
     },
     "execution_count": 68,
     "metadata": {},
     "output_type": "execute_result"
    }
   ],
   "source": [
    "turns_list[0][0]['author']"
   ]
  },
  {
   "cell_type": "markdown",
   "metadata": {},
   "source": [
    "**2- Le texte du dialogue**"
   ]
  },
  {
   "cell_type": "markdown",
   "metadata": {},
   "source": [
    "Nous aurons besoin aussi du texte du dialogue :"
   ]
  },
  {
   "cell_type": "code",
   "execution_count": 69,
   "metadata": {},
   "outputs": [
    {
     "data": {
      "text/plain": [
       "\"I'd like to book a trip to Atlantis from Caprica on Saturday, August 13, 2016 for 8 adults. I have a tight budget of 1700.\""
      ]
     },
     "execution_count": 69,
     "metadata": {},
     "output_type": "execute_result"
    }
   ],
   "source": [
    "turns_list[0][0]['text']"
   ]
  },
  {
   "cell_type": "markdown",
   "metadata": {},
   "source": [
    "<div class=\"alert alert-block alert-success\">  \n",
    "<strong>4. Les labels<a id='head-1-2'></a></strong>\n",
    "        \n",
    "</div>"
   ]
  },
  {
   "cell_type": "code",
   "execution_count": 71,
   "metadata": {},
   "outputs": [
    {
     "data": {
      "text/plain": [
       "dict"
      ]
     },
     "execution_count": 71,
     "metadata": {},
     "output_type": "execute_result"
    }
   ],
   "source": [
    "type(turns_list[0][0]['labels'])"
   ]
  },
  {
   "cell_type": "code",
   "execution_count": 73,
   "metadata": {},
   "outputs": [],
   "source": [
    "labels_dict =turns_list[0][0]['labels']"
   ]
  },
  {
   "cell_type": "code",
   "execution_count": 74,
   "metadata": {},
   "outputs": [
    {
     "data": {
      "text/plain": [
       "dict_keys(['acts', 'acts_without_refs', 'active_frame', 'frames'])"
      ]
     },
     "execution_count": 74,
     "metadata": {},
     "output_type": "execute_result"
    }
   ],
   "source": [
    "labels_dict.keys()"
   ]
  },
  {
   "attachments": {
    "490381eb-14e5-4c97-a00f-ae3805e09fa5.png": {
     "image/png": "[encoded data removed]"
    }
   },
   "cell_type": "markdown",
   "metadata": {},
   "source": [
    "![image.png](attachment:490381eb-14e5-4c97-a00f-ae3805e09fa5.png)"
   ]
  },
  {
   "cell_type": "markdown",
   "metadata": {},
   "source": [
    "On choisit \"acts\" qui contient les informations qui nous intéressent pour entrainer luis :"
   ]
  },
  {
   "cell_type": "code",
   "execution_count": 75,
   "metadata": {},
   "outputs": [
    {
     "data": {
      "text/plain": [
       "[{'args': [{'val': 'book', 'key': 'intent'}], 'name': 'inform'},\n",
       " {'args': [{'val': 'Atlantis', 'key': 'dst_city'},\n",
       "   {'val': 'Caprica', 'key': 'or_city'},\n",
       "   {'val': 'Saturday, August 13, 2016', 'key': 'str_date'},\n",
       "   {'val': '8', 'key': 'n_adults'},\n",
       "   {'val': '1700', 'key': 'budget'}],\n",
       "  'name': 'inform'}]"
      ]
     },
     "execution_count": 75,
     "metadata": {},
     "output_type": "execute_result"
    }
   ],
   "source": [
    "labels_dict['acts']"
   ]
  },
  {
   "cell_type": "code",
   "execution_count": 77,
   "metadata": {},
   "outputs": [
    {
     "data": {
      "text/plain": [
       "list"
      ]
     },
     "execution_count": 77,
     "metadata": {},
     "output_type": "execute_result"
    }
   ],
   "source": [
    "type(labels_dict['acts'])"
   ]
  },
  {
   "cell_type": "markdown",
   "metadata": {},
   "source": [
    "Chaque act contient une liste des valeurs/paramètres que l'on désire récupérer sous la forme clé/valeur"
   ]
  },
  {
   "cell_type": "code",
   "execution_count": 78,
   "metadata": {},
   "outputs": [
    {
     "data": {
      "text/plain": [
       "{'args': [{'val': 'book', 'key': 'intent'}], 'name': 'inform'}"
      ]
     },
     "execution_count": 78,
     "metadata": {},
     "output_type": "execute_result"
    }
   ],
   "source": [
    "labels_dict['acts'][0]"
   ]
  },
  {
   "cell_type": "code",
   "execution_count": 79,
   "metadata": {},
   "outputs": [
    {
     "data": {
      "text/plain": [
       "[{'val': 'book', 'key': 'intent'}]"
      ]
     },
     "execution_count": 79,
     "metadata": {},
     "output_type": "execute_result"
    }
   ],
   "source": [
    "labels_dict['acts'][0]['args']"
   ]
  },
  {
   "cell_type": "markdown",
   "metadata": {},
   "source": [
    "**La clé :** "
   ]
  },
  {
   "cell_type": "code",
   "execution_count": 86,
   "metadata": {},
   "outputs": [
    {
     "data": {
      "text/plain": [
       "'intent'"
      ]
     },
     "execution_count": 86,
     "metadata": {},
     "output_type": "execute_result"
    }
   ],
   "source": [
    "labels_dict['acts'][0]['args'][0]['key']"
   ]
  },
  {
   "cell_type": "markdown",
   "metadata": {},
   "source": [
    "**Sa valeur :** "
   ]
  },
  {
   "cell_type": "code",
   "execution_count": 85,
   "metadata": {},
   "outputs": [
    {
     "data": {
      "text/plain": [
       "'book'"
      ]
     },
     "execution_count": 85,
     "metadata": {},
     "output_type": "execute_result"
    }
   ],
   "source": [
    "labels_dict['acts'][0]['args'][0]['val']"
   ]
  },
  {
   "cell_type": "markdown",
   "metadata": {},
   "source": [
    "Petite subtilité, parfois les valeurs sont comprises dans les annotations car ils font référence à des valeurs données dans les précédents dialogues"
   ]
  },
  {
   "cell_type": "markdown",
   "metadata": {},
   "source": [
    "Par exemple, si on prend le 2ème dialogue de l'utilisateur (conversation 1)"
   ]
  },
  {
   "cell_type": "code",
   "execution_count": 102,
   "metadata": {},
   "outputs": [
    {
     "name": "stdout",
     "output_type": "stream",
     "text": [
      "1er dialogue : \n",
      "I'd like to book a trip to Atlantis from Caprica on Saturday, August 13, 2016 for 8 adults. I have a tight budget of 1700.\n",
      "\n",
      "2eme dialogue : \n",
      "Yes, how about going to Neverland from Caprica on August 13, 2016 for 5 adults. For this trip, my budget would be 1900.\n"
     ]
    }
   ],
   "source": [
    "print(f'1er dialogue : \\n{turns_list[0][0][\"text\"]}')\n",
    "print(\"\")\n",
    "print(f'2eme dialogue : \\n{turns_list[0][2][\"text\"]}')\n"
   ]
  },
  {
   "cell_type": "markdown",
   "metadata": {},
   "source": [
    "En effet l'utilisateur a déjà dit qu'il désirait aller à Caprica le 13 aout 2016 \n",
    "\n",
    "**Mais** le lieu de départ, le nombre de personne ainsi que le budget ont changé"
   ]
  },
  {
   "cell_type": "code",
   "execution_count": 93,
   "metadata": {},
   "outputs": [],
   "source": [
    "labels_dict =turns_list[0][2]['labels']"
   ]
  },
  {
   "cell_type": "code",
   "execution_count": 94,
   "metadata": {},
   "outputs": [
    {
     "data": {
      "text/plain": [
       "[{'args': [{'val': 'Neverland', 'key': 'dst_city'},\n",
       "   {'val': '5', 'key': 'n_adults'},\n",
       "   {'val': '1900', 'key': 'budget'},\n",
       "   {'val': [{'annotations': [{'val': 'Caprica', 'key': 'or_city'},\n",
       "       {'val': 'August 13, 2016', 'key': 'str_date'}],\n",
       "      'frame': 1,\n",
       "      'fromrange': False}],\n",
       "    'key': 'ref'}],\n",
       "  'name': 'inform'}]"
      ]
     },
     "execution_count": 94,
     "metadata": {},
     "output_type": "execute_result"
    }
   ],
   "source": [
    "labels_dict['acts']"
   ]
  },
  {
   "cell_type": "markdown",
   "metadata": {},
   "source": [
    "Les valeurs qui n'ont pas changés sont dans annotations : "
   ]
  },
  {
   "cell_type": "code",
   "execution_count": 106,
   "metadata": {},
   "outputs": [
    {
     "data": {
      "text/plain": [
       "{'val': [{'annotations': [{'val': 'Caprica', 'key': 'or_city'},\n",
       "    {'val': 'August 13, 2016', 'key': 'str_date'}],\n",
       "   'frame': 1,\n",
       "   'fromrange': False}],\n",
       " 'key': 'ref'}"
      ]
     },
     "execution_count": 106,
     "metadata": {},
     "output_type": "execute_result"
    }
   ],
   "source": [
    "labels_dict['acts'][0]['args'][3]"
   ]
  },
  {
   "cell_type": "code",
   "execution_count": 111,
   "metadata": {},
   "outputs": [
    {
     "data": {
      "text/plain": [
       "[{'val': 'Caprica', 'key': 'or_city'},\n",
       " {'val': 'August 13, 2016', 'key': 'str_date'}]"
      ]
     },
     "execution_count": 111,
     "metadata": {},
     "output_type": "execute_result"
    }
   ],
   "source": [
    "labels_dict['acts'][0]['args'][3]['val'][0]['annotations']"
   ]
  },
  {
   "cell_type": "markdown",
   "metadata": {},
   "source": [
    "Avec pour le même principe, la **clé** :"
   ]
  },
  {
   "cell_type": "code",
   "execution_count": 113,
   "metadata": {},
   "outputs": [
    {
     "data": {
      "text/plain": [
       "'or_city'"
      ]
     },
     "execution_count": 113,
     "metadata": {},
     "output_type": "execute_result"
    }
   ],
   "source": [
    "labels_dict['acts'][0]['args'][3]['val'][0]['annotations'][0]['key']"
   ]
  },
  {
   "cell_type": "markdown",
   "metadata": {},
   "source": [
    "et la **valeur** associée :"
   ]
  },
  {
   "cell_type": "code",
   "execution_count": 114,
   "metadata": {},
   "outputs": [
    {
     "data": {
      "text/plain": [
       "'Caprica'"
      ]
     },
     "execution_count": 114,
     "metadata": {},
     "output_type": "execute_result"
    }
   ],
   "source": [
    "labels_dict['acts'][0]['args'][3]['val'][0]['annotations'][0]['val']"
   ]
  }
 ],
 "metadata": {
  "kernelspec": {
   "name": "python3810jvsc74a57bd0d90b15230f25cbc7571e2ace165d2eb1fe11d289dfebbdd8b285137b96dd2a33",
   "display_name": "Python 3.8.10 64-bit ('projet10_2021': conda)"
  },
  "language_info": {
   "codemirror_mode": {
    "name": "ipython",
    "version": 3
   },
   "file_extension": ".py",
   "mimetype": "text/x-python",
   "name": "python",
   "nbconvert_exporter": "python",
   "pygments_lexer": "ipython3",
   "version": "3.8.10"
  }
 },
 "nbformat": 4,
 "nbformat_minor": 4
}