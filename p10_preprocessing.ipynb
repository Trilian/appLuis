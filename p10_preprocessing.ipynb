{
 "cells": [
  {
   "cell_type": "code",
   "execution_count": 11,
   "id": "142ae9f8-2bfa-4adc-b667-3b63299d96c4",
   "metadata": {},
   "outputs": [],
   "source": [
    "import module_luis.get_data as get_data\n",
    "import module_luis.luis_function as lf\n",
    "import module_luis.luis_prediction as luis_predict"
   ]
  },
  {
   "cell_type": "markdown",
   "id": "6441b2b2-b7a7-4d81-90b4-6cb8f7d52f1c",
   "metadata": {},
   "source": [
    "<div class=\"alert alert-block alert-info\">\n",
    "<h2><center><strong>Creation des données pour Luis </strong></center></h2>\n",
    "        \n",
    "</div>"
   ]
  },
  {
   "cell_type": "code",
   "execution_count": 3,
   "id": "94fa4905-acb7-47d2-9c8b-d8e2e93a25c8",
   "metadata": {},
   "outputs": [],
   "source": [
    "%load_ext pycodestyle_magic"
   ]
  },
  {
   "cell_type": "code",
   "execution_count": 4,
   "id": "848782e7-239c-421a-83d0-77e9e1698344",
   "metadata": {},
   "outputs": [],
   "source": [
    "%flake8_on"
   ]
  },
  {
   "cell_type": "markdown",
   "id": "f283aae8-c7be-4cd5-8ba9-c7791ebd72dd",
   "metadata": {},
   "source": [
    "<div class=\"alert alert-block alert-success\">  \n",
    "<strong>1. Chargement du jeu de données<a id='head-1-2'></a> 📕 📗 📘 📙</strong>\n",
    "        \n",
    "</div>"
   ]
  },
  {
   "cell_type": "markdown",
   "id": "089c7a4c-cb6e-4258-93ee-3e2e6478bf49",
   "metadata": {},
   "source": [
    "*a) Initialisation des paramètres*"
   ]
  },
  {
   "cell_type": "code",
   "execution_count": 12,
   "id": "8034a196-c9d4-4038-98c7-02b8db6013ae",
   "metadata": {},
   "outputs": [],
   "source": [
    "data_path = \"data/frames.json\""
   ]
  },
  {
   "cell_type": "markdown",
   "id": "217019cd-ba2d-4089-85cf-e3ad15035097",
   "metadata": {},
   "source": [
    "*b) Chargement du fichier*"
   ]
  },
  {
   "cell_type": "code",
   "execution_count": 13,
   "id": "b3e9a391-8ae4-4a47-bddf-a2fc843972cf",
   "metadata": {
    "tags": []
   },
   "outputs": [],
   "source": [
    "data_list = get_data.load_data(data_path)"
   ]
  },
  {
   "cell_type": "markdown",
   "id": "f93dbdc8",
   "metadata": {},
   "source": [
    "On le transforme pour qu'il soit utilisable dans luis :"
   ]
  },
  {
   "cell_type": "code",
   "execution_count": 39,
   "id": "0f162413",
   "metadata": {},
   "outputs": [],
   "source": [
    "list_final = get_data.transform_data(data_list)\n",
    "list_train = list_final[99:]\n",
    "list_test = list_final[0:99]"
   ]
  },
  {
   "cell_type": "markdown",
   "id": "a9f1f5be",
   "metadata": {},
   "source": [
    "### Creation de l'application luis, des intentions et des utterances :"
   ]
  },
  {
   "cell_type": "code",
   "execution_count": 30,
   "id": "d1fbc9ba-c2ad-40b4-b2b1-93fa94f847d4",
   "metadata": {},
   "outputs": [
    {
     "output_type": "stream",
     "name": "stdout",
     "text": [
      "Creating application...\n",
      "Created LUIS app Fly Bot\n",
      "    with ID 9a4d53de-3156-4e7a-80ec-30803825ce2f\n",
      "9a4d53de-3156-4e7a-80ec-30803825ce2f 0.1\n"
     ]
    }
   ],
   "source": [
    "print(\"Creating application...\")\n",
    "app_id, app_version = lf.create_app()\n",
    "print(app_id, app_version)"
   ]
  },
  {
   "cell_type": "code",
   "execution_count": 31,
   "id": "e5129acf-8ba2-476d-a5d0-32889ed5963e",
   "metadata": {},
   "outputs": [
    {
     "output_type": "stream",
     "name": "stdout",
     "text": [
      "Adding entities to application...\n",
      "destinationEntityId a4b5d7d5-c8be-4b34-8738-f1855aa82f12 added.\n",
      "classEntityId 429dd0f9-ecba-4626-84f6-8a3bc803d6bf added.\n",
      "flightEntityId 2b23f6b1-739b-4687-823c-013850bdb4ad added.\n",
      "flightEntityId eb5c2cff-7834-4215-a7b8-47c8f00619e7 added.\n",
      "flightEntityId a4910fa0-e380-4527-a007-7e896b7d3a1b added.\n"
     ]
    }
   ],
   "source": [
    "print(\"Adding entities to application...\")\n",
    "lf.add_entities(app_id, app_version)"
   ]
  },
  {
   "cell_type": "code",
   "execution_count": 32,
   "id": "c6f45fa3-692a-4124-9dfa-f6b56a43de91",
   "metadata": {},
   "outputs": [
    {
     "output_type": "stream",
     "name": "stdout",
     "text": [
      "Adding intents to application...\n",
      "Intent BookFlight 9c0bef58-6c19-4da7-b525-ba5a0aaa9c13 added.\n",
      "Intent Cancel b2d81b0e-cfba-463d-b6ad-3abdde5f7313 added.\n",
      "Intent Greeting d4f3d899-6601-4d53-bffe-fe382a035c26 added.\n",
      "Intent Help d1fb3781-8d1e-465a-a7ba-ae3a8dd942ce added.\n",
      "Intent Closing dd9c2e8f-15f5-43ef-8052-7cdde5661917 added.\n"
     ]
    }
   ],
   "source": [
    "print(\"Adding intents to application...\")\n",
    "lf.add_intents(app_id, app_version)"
   ]
  },
  {
   "cell_type": "markdown",
   "id": "3099e295",
   "metadata": {},
   "source": [
    "on ajoute les entités correspondant à Greeting, Cancel, Help, None..."
   ]
  },
  {
   "cell_type": "code",
   "execution_count": 33,
   "id": "aa61411c",
   "metadata": {},
   "outputs": [
    {
     "output_type": "stream",
     "name": "stdout",
     "text": [
      "45 example utterance(s) added.\n"
     ]
    }
   ],
   "source": [
    "intentions_path = \"data/data_intentions.txt\"\n",
    "list_utterances_default = get_data.create_data(intentions_path)\n",
    "lf.add_utterances(app_id, app_version, list_utterances_default)\n",
    "print(\"{} example utterance(s) added.\".format(len(list_utterances_default)))"
   ]
  },
  {
   "cell_type": "markdown",
   "id": "1a17f7ae",
   "metadata": {},
   "source": [
    "On les ajoute 100 par 100 sinon Luis refuse autant de requetes en gratuit : "
   ]
  },
  {
   "cell_type": "code",
   "execution_count": 34,
   "id": "3020cd48-4dbf-4f33-9194-54a6440700a7",
   "metadata": {},
   "outputs": [
    {
     "output_type": "stream",
     "name": "stdout",
     "text": [
      "Adding intents to utterances...\n",
      "5129 example utterance(s) added.\n"
     ]
    }
   ],
   "source": [
    "print(\"Adding intents to utterances...\")\n",
    "# on garde les 229 premieres utterances pour evaluer luis\n",
    "for i in range(229, len(list_train), 100):\n",
    "    j = (i + 100)\n",
    "    if j > len(list_final):\n",
    "        j = len(list_final)\n",
    "    lf.add_utterances(app_id, app_version, list_train[i:j])\n",
    "print(\"{} example utterance(s) added.\".format(len(list_train)))"
   ]
  },
  {
   "cell_type": "code",
   "execution_count": 35,
   "id": "0e564777",
   "metadata": {},
   "outputs": [
    {
     "output_type": "stream",
     "name": "stdout",
     "text": [
      "Train application...\n",
      "Waiting 10 seconds for training to complete...\n",
      "Waiting 10 seconds for training to complete...\n",
      "Waiting 10 seconds for training to complete...\n",
      "trained\n"
     ]
    }
   ],
   "source": [
    "print(\"Train application...\")\n",
    "lf.train_app(app_id, app_version)"
   ]
  },
  {
   "cell_type": "code",
   "execution_count": 42,
   "metadata": {},
   "outputs": [
    {
     "output_type": "stream",
     "name": "stdout",
     "text": [
      "Evaluate application...\n"
     ]
    }
   ],
   "source": [
    "print(\"Evaluate application...\")\n",
    "test_path = \"data/evaluate.json\"\n",
    "lf.evaluate_app(test_path, list_test)"
   ]
  },
  {
   "cell_type": "code",
   "execution_count": 37,
   "id": "68775286-5146-4f00-a685-7bbba5a4b753",
   "metadata": {},
   "outputs": [
    {
     "output_type": "stream",
     "name": "stdout",
     "text": [
      "Publish application...\n",
      "Application published. Endpoint URL: https://westeurope.api.cognitive.microsoft.com/luis/v2.0/apps/9a4d53de-3156-4e7a-80ec-30803825ce2f\n"
     ]
    }
   ],
   "source": [
    "print(\"Publish application...\")\n",
    "lf.publish_app(app_id, app_version)"
   ]
  },
  {
   "cell_type": "markdown",
   "id": "f4cd4424-f6e6-454d-9a46-ebdd6ba129d6",
   "metadata": {},
   "source": [
    "<div class=\"alert alert-block alert-success\">  \n",
    "<strong>2. Evaluation des predictions<a id='head-1-2'></a> 📕 📗 📘 📙</strong>\n",
    "        \n",
    "</div>"
   ]
  },
  {
   "cell_type": "code",
   "execution_count": 11,
   "id": "67a56b7c-99c3-4b4a-8b1e-341f830a8473",
   "metadata": {},
   "outputs": [
    {
     "output_type": "stream",
     "name": "stdout",
     "text": [
      "luisAppID: 5705e735-228d-430c-94fd-cab67b7f69ae\nluisSlotName: production\n"
     ]
    }
   ],
   "source": [
    "# <OtherVariables>\n",
    "# Use public app ID or replace with your own trained and published app's ID\n",
    "# to query your own app\n",
    "# public appID = 'df67dcdb-c37d-46af-88e1-8b97951ca1c2'\n",
    "luisAppID = '5705e735-228d-430c-94fd-cab67b7f69ae'\n",
    "print(\"luisAppID: {}\".format(luisAppID))\n",
    "\n",
    "# `production` or `staging`\n",
    "luisSlotName = 'production'\n",
    "print(\"luisSlotName: {}\".format(luisSlotName))\n",
    "# </OtherVariables>\n"
   ]
  },
  {
   "cell_type": "code",
   "execution_count": 13,
   "id": "6335bcf1-ff8e-48cd-b266-b9d0af412c6e",
   "metadata": {},
   "outputs": [
    {
     "output_type": "stream",
     "name": "stdout",
     "text": [
      "Top intent: BookFlight\nSentiment: None\nIntents: \n\t\"BookFlight\"\nEntities: {'or_city': ['paris'], 'dst_city': ['berlin'], 'budget': ['2020'], 'str_date': ['september'], 'end_date': ['2nd october']}\n"
     ]
    }
   ],
   "source": [
    "luis_predict.predict(luisAppID, luisSlotName)"
   ]
  },
  {
   "cell_type": "code",
   "execution_count": null,
   "id": "2cbd9013-d40c-4178-bf6d-650dc8692edc",
   "metadata": {},
   "outputs": [],
   "source": []
  }
 ],
 "metadata": {
  "kernelspec": {
   "name": "python3",
   "display_name": "Python 3.8.10 64-bit ('luisIntegration': conda)"
  },
  "language_info": {
   "codemirror_mode": {
    "name": "ipython",
    "version": 3
   },
   "file_extension": ".py",
   "mimetype": "text/x-python",
   "name": "python",
   "nbconvert_exporter": "python",
   "pygments_lexer": "ipython3",
   "version": "3.8.10"
  },
  "interpreter": {
   "hash": "a0aeebaa97e811681c1fbec8c49882f6a9a22fb7d7945e75bdc5088b795c0c91"
  }
 },
 "nbformat": 4,
 "nbformat_minor": 5
}