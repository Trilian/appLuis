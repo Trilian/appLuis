{
 "cells": [
  {
   "cell_type": "code",
   "execution_count": 1,
   "id": "142ae9f8-2bfa-4adc-b667-3b63299d96c4",
   "metadata": {},
   "outputs": [],
   "source": [
    "import modules.get_data as get_data\n",
    "import modules.bot_creation as bc"
   ]
  },
  {
   "cell_type": "markdown",
   "id": "6441b2b2-b7a7-4d81-90b4-6cb8f7d52f1c",
   "metadata": {},
   "source": [
    "<div class=\"alert alert-block alert-info\">\n",
    "<h2><center><strong>Creation des données pour Luis </strong></center></h2>\n",
    "        \n",
    "</div>"
   ]
  },
  {
   "cell_type": "code",
   "execution_count": 2,
   "id": "94fa4905-acb7-47d2-9c8b-d8e2e93a25c8",
   "metadata": {},
   "outputs": [],
   "source": [
    "%load_ext pycodestyle_magic"
   ]
  },
  {
   "cell_type": "code",
   "execution_count": 3,
   "id": "848782e7-239c-421a-83d0-77e9e1698344",
   "metadata": {},
   "outputs": [],
   "source": [
    "%flake8_on"
   ]
  },
  {
   "cell_type": "markdown",
   "id": "f283aae8-c7be-4cd5-8ba9-c7791ebd72dd",
   "metadata": {},
   "source": [
    "<div class=\"alert alert-block alert-success\">  \n",
    "<strong>1. Chargement du jeu de données<a id='head-1-2'></a> 📕 📗 📘 📙</strong>\n",
    "        \n",
    "</div>"
   ]
  },
  {
   "cell_type": "markdown",
   "id": "089c7a4c-cb6e-4258-93ee-3e2e6478bf49",
   "metadata": {},
   "source": [
    "*a) Initialisation des paramètres*"
   ]
  },
  {
   "cell_type": "code",
   "execution_count": 4,
   "id": "8034a196-c9d4-4038-98c7-02b8db6013ae",
   "metadata": {},
   "outputs": [],
   "source": [
    "data_path = \"data/frames.json\""
   ]
  },
  {
   "cell_type": "markdown",
   "id": "217019cd-ba2d-4089-85cf-e3ad15035097",
   "metadata": {},
   "source": [
    "*b) Chargement du fichier*"
   ]
  },
  {
   "cell_type": "code",
   "execution_count": 5,
   "id": "b3e9a391-8ae4-4a47-bddf-a2fc843972cf",
   "metadata": {
    "tags": []
   },
   "outputs": [],
   "source": [
    "data_list = get_data.load_data(data_path)"
   ]
  },
  {
   "cell_type": "markdown",
   "id": "f93dbdc8",
   "metadata": {},
   "source": [
    "On le transforme pour qu'il soit utilisable dans luis :"
   ]
  },
  {
   "cell_type": "code",
   "execution_count": 6,
   "id": "0f162413",
   "metadata": {},
   "outputs": [],
   "source": [
    "list_final = get_data.transform_data(data_list)"
   ]
  },
  {
   "cell_type": "markdown",
   "id": "a9f1f5be",
   "metadata": {},
   "source": [
    "### Creation de l'application luis, des intentions et des utterances :"
   ]
  },
  {
   "cell_type": "code",
   "execution_count": 7,
   "id": "d1fbc9ba-c2ad-40b4-b2b1-93fa94f847d4",
   "metadata": {},
   "outputs": [
    {
     "output_type": "stream",
     "name": "stdout",
     "text": [
      "Creating application...\n",
      "3:13: E231 missing whitespace after ','\n",
      "Created LUIS app Fly Bot\n",
      "    with ID 793db7af-42c8-46b0-9035-151d578faf36\n",
      "793db7af-42c8-46b0-9035-151d578faf36 0.1\n"
     ]
    }
   ],
   "source": [
    "print(\"Creating application...\")\n",
    "app_id, app_version = bc.create_app()\n",
    "print(app_id, app_version)"
   ]
  },
  {
   "cell_type": "code",
   "execution_count": 14,
   "metadata": {},
   "outputs": [
    {
     "output_type": "stream",
     "name": "stderr",
     "text": [
      "1:5: E225 missing whitespace around operator\n",
      "<msrest.pipeline.ClientRawResponse object at 0x000001CFA91BEA30>\n"
     ]
    }
   ],
   "source": [
    "#operations.VersionsOperations.clone()"
   ]
  },
  {
   "cell_type": "code",
   "execution_count": 8,
   "id": "e5129acf-8ba2-476d-a5d0-32889ed5963e",
   "metadata": {},
   "outputs": [
    {
     "name": "stdout",
     "output_type": "stream",
     "text": [
      "Adding entities to application...\n",
      "destinationEntityId c56ec4d7-0f74-47b3-888b-837d577b9ff8 added.\n",
      "classEntityId d1348987-6a71-4193-8d31-9359796261bb added.\n",
      "flightEntityId 4ecbad67-db92-4ccb-9bc8-79d2c1c98263 added.\n",
      "flightEntityId bd32110f-5886-45ec-82db-f842bd2f8586 added.\n",
      "flightEntityId 789aa8dc-f257-41d5-b7f8-8017efd0b08b added.\n"
     ]
    }
   ],
   "source": [
    "print(\"Adding entities to application...\")\n",
    "bc.add_entities(app_id, app_version)"
   ]
  },
  {
   "cell_type": "code",
   "execution_count": 9,
   "id": "c6f45fa3-692a-4124-9dfa-f6b56a43de91",
   "metadata": {},
   "outputs": [
    {
     "name": "stdout",
     "output_type": "stream",
     "text": [
      "Adding intents to application...\n",
      "Intent BookFlight 31e06e6c-0e7d-4a00-99ed-da0fc8fde692 added.\n"
     ]
    }
   ],
   "source": [
    "print(\"Adding intents to application...\")\n",
    "bc.add_intents(app_id, app_version)"
   ]
  },
  {
   "cell_type": "markdown",
   "id": "1a17f7ae",
   "metadata": {},
   "source": [
    "On les ajoute 100 par 100 sinon Luis refuse autant de requetes en gratuit : "
   ]
  },
  {
   "cell_type": "code",
   "execution_count": 15,
   "id": "3020cd48-4dbf-4f33-9194-54a6440700a7",
   "metadata": {},
   "outputs": [
    {
     "name": "stdout",
     "output_type": "stream",
     "text": [
      "Adding intents to utterances...\n",
      "3\n",
      "3 example utterance(s) added.\n",
      "3 example utterance(s) added.\n"
     ]
    }
   ],
   "source": [
    "print(\"Adding intents to utterances...\")\n",
    "print(len(list_final))\n",
    "for i in range(0, len(list_final), 100):\n",
    "    j = (i + 100)\n",
    "    if j > len(list_final):\n",
    "        j = len(list_final)\n",
    "    bc.add_utterances(app_id, app_version, list_final[i:j])\n",
    "print(\"{} example utterance(s) added.\".format(len(list_final)))"
   ]
  },
  {
   "cell_type": "code",
   "execution_count": null,
   "id": "0e564777",
   "metadata": {},
   "outputs": [],
   "source": [
    "print(\"Train application...\")\n",
    "bc.train_app(app_id, app_version)"
   ]
  },
  {
   "cell_type": "code",
   "execution_count": null,
   "id": "68775286-5146-4f00-a685-7bbba5a4b753",
   "metadata": {},
   "outputs": [],
   "source": [
    "print(\"Publish application...\")\n",
    "bc.publish_app(app_id, app_version)"
   ]
  }
 ],
 "metadata": {
  "kernelspec": {
   "name": "python3810jvsc74a57bd0d90b15230f25cbc7571e2ace165d2eb1fe11d289dfebbdd8b285137b96dd2a33",
   "display_name": "Python 3.8.10 64-bit ('projet10_2021': conda)"
  },
  "language_info": {
   "codemirror_mode": {
    "name": "ipython",
    "version": 3
   },
   "file_extension": ".py",
   "mimetype": "text/x-python",
   "name": "python",
   "nbconvert_exporter": "python",
   "pygments_lexer": "ipython3",
   "version": "3.8.10"
  }
 },
 "nbformat": 4,
 "nbformat_minor": 5
}