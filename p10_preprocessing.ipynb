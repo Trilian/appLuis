{
 "cells": [
  {
   "cell_type": "code",
   "execution_count": 2,
   "id": "142ae9f8-2bfa-4adc-b667-3b63299d96c4",
   "metadata": {},
   "outputs": [],
   "source": [
    "import module_luis.get_data as get_data\n",
    "import module_luis.bot_creation as bc"
   ]
  },
  {
   "cell_type": "markdown",
   "id": "6441b2b2-b7a7-4d81-90b4-6cb8f7d52f1c",
   "metadata": {},
   "source": [
    "<div class=\"alert alert-block alert-info\">\n",
    "<h2><center><strong>Creation des données pour Luis </strong></center></h2>\n",
    "        \n",
    "</div>"
   ]
  },
  {
   "cell_type": "code",
   "execution_count": 1,
   "id": "94fa4905-acb7-47d2-9c8b-d8e2e93a25c8",
   "metadata": {},
   "outputs": [],
   "source": [
    "%load_ext pycodestyle_magic"
   ]
  },
  {
   "cell_type": "code",
   "execution_count": 3,
   "id": "848782e7-239c-421a-83d0-77e9e1698344",
   "metadata": {},
   "outputs": [],
   "source": [
    "%flake8_on"
   ]
  },
  {
   "cell_type": "markdown",
   "id": "f283aae8-c7be-4cd5-8ba9-c7791ebd72dd",
   "metadata": {},
   "source": [
    "<div class=\"alert alert-block alert-success\">  \n",
    "<strong>1. Chargement du jeu de données<a id='head-1-2'></a> 📕 📗 📘 📙</strong>\n",
    "        \n",
    "</div>"
   ]
  },
  {
   "cell_type": "markdown",
   "id": "089c7a4c-cb6e-4258-93ee-3e2e6478bf49",
   "metadata": {},
   "source": [
    "*a) Initialisation des paramètres*"
   ]
  },
  {
   "cell_type": "code",
   "execution_count": 4,
   "id": "8034a196-c9d4-4038-98c7-02b8db6013ae",
   "metadata": {},
   "outputs": [],
   "source": [
    "data_path = \"data/frames.json\""
   ]
  },
  {
   "cell_type": "markdown",
   "id": "217019cd-ba2d-4089-85cf-e3ad15035097",
   "metadata": {},
   "source": [
    "*b) Chargement du fichier*"
   ]
  },
  {
   "cell_type": "code",
   "execution_count": 5,
   "id": "b3e9a391-8ae4-4a47-bddf-a2fc843972cf",
   "metadata": {
    "tags": []
   },
   "outputs": [],
   "source": [
    "data_list = get_data.load_data(data_path)"
   ]
  },
  {
   "cell_type": "markdown",
   "id": "f93dbdc8",
   "metadata": {},
   "source": [
    "On le transforme pour qu'il soit utilisable dans luis :"
   ]
  },
  {
   "cell_type": "code",
   "execution_count": 6,
   "id": "0f162413",
   "metadata": {},
   "outputs": [],
   "source": [
    "list_final = get_data.transform_data(data_list)"
   ]
  },
  {
   "cell_type": "markdown",
   "id": "a9f1f5be",
   "metadata": {},
   "source": [
    "### Creation de l'application luis, des intentions et des utterances :"
   ]
  },
  {
   "cell_type": "code",
   "execution_count": 7,
   "id": "d1fbc9ba-c2ad-40b4-b2b1-93fa94f847d4",
   "metadata": {},
   "outputs": [
    {
     "output_type": "stream",
     "name": "stdout",
     "text": [
      "Creating application...\n",
      "Created LUIS app Fly Bot\n",
      "    with ID 5705e735-228d-430c-94fd-cab67b7f69ae\n",
      "5705e735-228d-430c-94fd-cab67b7f69ae 0.1\n"
     ]
    }
   ],
   "source": [
    "print(\"Creating application...\")\n",
    "app_id, app_version = bc.create_app()\n",
    "print(app_id, app_version)"
   ]
  },
  {
   "cell_type": "code",
   "execution_count": null,
   "metadata": {},
   "outputs": [],
   "source": [
    "#operations.VersionsOperations.clone()"
   ]
  },
  {
   "cell_type": "code",
   "execution_count": 8,
   "id": "e5129acf-8ba2-476d-a5d0-32889ed5963e",
   "metadata": {},
   "outputs": [
    {
     "output_type": "stream",
     "name": "stdout",
     "text": [
      "Adding entities to application...\n",
      "destinationEntityId 84cc7ed6-ee97-4384-96bd-49ad76d716ef added.\n",
      "classEntityId 5648cd91-fbf5-4bbb-80d6-dea0dc544b95 added.\n",
      "flightEntityId f3e622e5-a593-4788-bd7a-c99083170b1e added.\n",
      "flightEntityId 4dd298e2-f8dc-40bc-9d48-614f5fce005a added.\n",
      "flightEntityId 59d5c8cc-8d26-4112-8e2b-3dd447f17426 added.\n"
     ]
    }
   ],
   "source": [
    "print(\"Adding entities to application...\")\n",
    "bc.add_entities(app_id, app_version)"
   ]
  },
  {
   "cell_type": "code",
   "execution_count": 9,
   "id": "c6f45fa3-692a-4124-9dfa-f6b56a43de91",
   "metadata": {},
   "outputs": [
    {
     "output_type": "stream",
     "name": "stdout",
     "text": [
      "Adding intents to application...\n",
      "Intent BookFlight f0690959-bce1-4686-9804-5a5efd1d0ad0 added.\n",
      "Intent Cancel cacf89b7-3454-4d43-ad2e-2704900c14bc added.\n",
      "Intent Greeting cd81aa6c-f166-46b6-b874-0783c91dea69 added.\n",
      "Intent Help 66090d04-3f57-4c96-bc71-2acc72d62bc9 added.\n",
      "Intent Closing 740c5122-fea8-483d-b1cc-d52ba010f3aa added.\n"
     ]
    }
   ],
   "source": [
    "print(\"Adding intents to application...\")\n",
    "bc.add_intents(app_id, app_version)"
   ]
  },
  {
   "source": [
    "on ajoute les entités correspondant à Greeting, Cancel, Help, None..."
   ],
   "cell_type": "markdown",
   "metadata": {}
  },
  {
   "cell_type": "code",
   "execution_count": 10,
   "metadata": {},
   "outputs": [
    {
     "output_type": "stream",
     "name": "stdout",
     "text": [
      "45 example utterance(s) added.\n"
     ]
    }
   ],
   "source": [
    "bc.add_utterances_default(app_id, app_version)"
   ]
  },
  {
   "cell_type": "markdown",
   "id": "1a17f7ae",
   "metadata": {},
   "source": [
    "On les ajoute 100 par 100 sinon Luis refuse autant de requetes en gratuit : "
   ]
  },
  {
   "cell_type": "code",
   "execution_count": 11,
   "id": "3020cd48-4dbf-4f33-9194-54a6440700a7",
   "metadata": {},
   "outputs": [
    {
     "output_type": "stream",
     "name": "stdout",
     "text": [
      "Adding intents to utterances...\n",
      "5229\n",
      "100 example utterance(s) added.\n",
      "100 example utterance(s) added.\n",
      "100 example utterance(s) added.\n",
      "100 example utterance(s) added.\n",
      "100 example utterance(s) added.\n",
      "100 example utterance(s) added.\n",
      "100 example utterance(s) added.\n",
      "100 example utterance(s) added.\n",
      "100 example utterance(s) added.\n",
      "100 example utterance(s) added.\n",
      "100 example utterance(s) added.\n",
      "100 example utterance(s) added.\n",
      "100 example utterance(s) added.\n",
      "100 example utterance(s) added.\n",
      "100 example utterance(s) added.\n",
      "100 example utterance(s) added.\n",
      "100 example utterance(s) added.\n",
      "100 example utterance(s) added.\n",
      "100 example utterance(s) added.\n",
      "100 example utterance(s) added.\n",
      "100 example utterance(s) added.\n",
      "100 example utterance(s) added.\n",
      "100 example utterance(s) added.\n",
      "100 example utterance(s) added.\n",
      "100 example utterance(s) added.\n",
      "100 example utterance(s) added.\n",
      "100 example utterance(s) added.\n",
      "100 example utterance(s) added.\n",
      "100 example utterance(s) added.\n",
      "100 example utterance(s) added.\n",
      "100 example utterance(s) added.\n",
      "100 example utterance(s) added.\n",
      "100 example utterance(s) added.\n",
      "100 example utterance(s) added.\n",
      "100 example utterance(s) added.\n",
      "100 example utterance(s) added.\n",
      "100 example utterance(s) added.\n",
      "100 example utterance(s) added.\n",
      "100 example utterance(s) added.\n",
      "100 example utterance(s) added.\n",
      "100 example utterance(s) added.\n",
      "100 example utterance(s) added.\n",
      "100 example utterance(s) added.\n",
      "100 example utterance(s) added.\n",
      "100 example utterance(s) added.\n",
      "100 example utterance(s) added.\n",
      "100 example utterance(s) added.\n",
      "100 example utterance(s) added.\n",
      "100 example utterance(s) added.\n",
      "100 example utterance(s) added.\n",
      "100 example utterance(s) added.\n",
      "100 example utterance(s) added.\n",
      "29 example utterance(s) added.\n",
      "5229 example utterance(s) added.\n"
     ]
    }
   ],
   "source": [
    "print(\"Adding intents to utterances...\")\n",
    "print(len(list_final))\n",
    "for i in range(0, len(list_final), 100):\n",
    "    j = (i + 100)\n",
    "    if j > len(list_final):\n",
    "        j = len(list_final)\n",
    "    bc.add_utterances_flight(app_id, app_version, list_final[i:j])\n",
    "print(\"{} example utterance(s) added.\".format(len(list_final)))"
   ]
  },
  {
   "cell_type": "code",
   "execution_count": 12,
   "id": "0e564777",
   "metadata": {},
   "outputs": [
    {
     "output_type": "stream",
     "name": "stdout",
     "text": [
      "Train application...\n",
      "Waiting 10 seconds for training to complete...\n",
      "Waiting 10 seconds for training to complete...\n",
      "Waiting 10 seconds for training to complete...\n",
      "trained\n"
     ]
    }
   ],
   "source": [
    "print(\"Train application...\")\n",
    "bc.train_app(app_id, app_version)"
   ]
  },
  {
   "cell_type": "code",
   "execution_count": 13,
   "id": "68775286-5146-4f00-a685-7bbba5a4b753",
   "metadata": {},
   "outputs": [
    {
     "output_type": "stream",
     "name": "stdout",
     "text": [
      "Publish application...\n",
      "Application published. Endpoint URL: https://westeurope.api.cognitive.microsoft.com/luis/v2.0/apps/5705e735-228d-430c-94fd-cab67b7f69ae\n"
     ]
    }
   ],
   "source": [
    "print(\"Publish application...\")\n",
    "bc.publish_app(app_id, app_version)"
   ]
  }
 ],
 "metadata": {
  "kernelspec": {
   "name": "python3810jvsc74a57bd0d90b15230f25cbc7571e2ace165d2eb1fe11d289dfebbdd8b285137b96dd2a33",
   "display_name": "Python 3.8.10 64-bit ('projet10_2021': conda)"
  },
  "language_info": {
   "codemirror_mode": {
    "name": "ipython",
    "version": 3
   },
   "file_extension": ".py",
   "mimetype": "text/x-python",
   "name": "python",
   "nbconvert_exporter": "python",
   "pygments_lexer": "ipython3",
   "version": "3.8.10"
  }
 },
 "nbformat": 4,
 "nbformat_minor": 5
}