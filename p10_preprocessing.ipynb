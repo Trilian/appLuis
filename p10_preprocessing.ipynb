{
 "cells": [
  {
   "cell_type": "code",
   "execution_count": 1,
   "metadata": {},
   "outputs": [
    {
     "name": "stdout",
     "output_type": "stream",
     "text": [
      "runtime_key: ef3b354d5d1b42459bf2e2591519cba2\n",
      "runtime_endpoint: https://westeurope.api.cognitive.microsoft.com/\n"
     ]
    }
   ],
   "source": [
    "import module_luis.get_data as get_data\n",
    "import module_luis.luis_function as lf\n",
    "import module_luis.luis_prediction as luis_predict"
   ]
  },
  {
   "cell_type": "markdown",
   "metadata": {},
   "source": [
    "<div class=\"alert alert-block alert-info\">\n",
    "<h2><center><strong>Creation des données pour Luis </strong></center></h2>\n",
    "        \n",
    "</div>"
   ]
  },
  {
   "cell_type": "code",
   "execution_count": 2,
   "metadata": {},
   "outputs": [],
   "source": [
    "%load_ext pycodestyle_magic"
   ]
  },
  {
   "cell_type": "code",
   "execution_count": 3,
   "metadata": {},
   "outputs": [],
   "source": [
    "%flake8_on"
   ]
  },
  {
   "cell_type": "markdown",
   "metadata": {},
   "source": [
    "<div class=\"alert alert-block alert-success\">  \n",
    "<strong>1. Chargement du jeu de données<a id='head-1-2'></a> 📕 📗 📘 📙</strong>\n",
    "        \n",
    "</div>"
   ]
  },
  {
   "cell_type": "markdown",
   "metadata": {},
   "source": [
    "*a) Initialisation des paramètres*"
   ]
  },
  {
   "cell_type": "code",
   "execution_count": 2,
   "metadata": {},
   "outputs": [],
   "source": [
    "data_path = \"data/frames.json\""
   ]
  },
  {
   "cell_type": "markdown",
   "metadata": {},
   "source": [
    "*b) Chargement du fichier*"
   ]
  },
  {
   "cell_type": "code",
   "execution_count": 3,
   "metadata": {
    "tags": []
   },
   "outputs": [],
   "source": [
    "data_list = get_data.load_data(data_path)"
   ]
  },
  {
   "cell_type": "markdown",
   "metadata": {},
   "source": [
    "On le transforme pour qu'il soit utilisable dans luis :"
   ]
  },
  {
   "cell_type": "code",
   "execution_count": 4,
   "metadata": {},
   "outputs": [],
   "source": [
    "list_final = get_data.transform_data(data_list)\n",
    "list_train = list_final[:-99]\n",
    "list_test = list_final[-99:]"
   ]
  },
  {
   "cell_type": "markdown",
   "metadata": {},
   "source": [
    "### Creation de l'application luis, des intentions et des utterances :"
   ]
  },
  {
   "cell_type": "code",
   "execution_count": 5,
   "metadata": {},
   "outputs": [
    {
     "name": "stdout",
     "output_type": "stream",
     "text": [
      "Creating application...\n",
      "Created LUIS app Fly Bot\n",
      "    with ID 482c7139-dbf6-4560-be9b-821f34dc99b9\n",
      "482c7139-dbf6-4560-be9b-821f34dc99b9 0.1\n"
     ]
    }
   ],
   "source": [
    "print(\"Creating application...\")\n",
    "app_id, app_version = lf.create_app()\n",
    "print(app_id, app_version)"
   ]
  },
  {
   "cell_type": "code",
   "execution_count": 6,
   "metadata": {},
   "outputs": [
    {
     "name": "stdout",
     "output_type": "stream",
     "text": [
      "Adding entities to application...\n",
      "destinationEntityId abdfcf8f-3f74-4622-85c7-46d977c951f9 added.\n",
      "classEntityId 3af1b04a-4567-46de-bdae-3c3bf2a8f987 added.\n",
      "flightEntityId 66298b19-4351-4013-9470-57d23d3a68c2 added.\n",
      "flightEntityId 781d33a4-0a9a-47ae-97c8-928195b2e533 added.\n",
      "flightEntityId c2320e13-3bd7-42f7-af2a-42b3916f1e79 added.\n",
      "flightEntityId [<azure.cognitiveservices.language.luis.authoring.models.prebuilt_entity_extractor_py3.PrebuiltEntityExtractor object at 0x00000248002CCDC0>] added.\n"
     ]
    }
   ],
   "source": [
    "print(\"Adding entities to application...\")\n",
    "lf.add_entities(app_id, app_version)"
   ]
  },
  {
   "cell_type": "code",
   "execution_count": 7,
   "metadata": {},
   "outputs": [
    {
     "name": "stdout",
     "output_type": "stream",
     "text": [
      "Adding intents to application...\n",
      "Intent BookFlight a2da9561-9d2f-44e9-8305-44fa62ded6c0 added.\n",
      "Intent Cancel 7208b408-49f0-4c71-8871-05d3cce6cdbc added.\n",
      "Intent Greeting f51c9d09-2df7-4835-b0d7-2926f6ab1406 added.\n",
      "Intent Help ecddd9f0-0ba7-4892-a6e4-f07fe3c5bb8c added.\n",
      "Intent Closing 62f82277-edca-4945-894a-f8c306d6dc94 added.\n"
     ]
    }
   ],
   "source": [
    "print(\"Adding intents to application...\")\n",
    "lf.add_intents(app_id, app_version)"
   ]
  },
  {
   "cell_type": "markdown",
   "metadata": {},
   "source": [
    "on ajoute les entités correspondant à Greeting, Cancel, Help, None..."
   ]
  },
  {
   "cell_type": "code",
   "execution_count": 8,
   "metadata": {},
   "outputs": [
    {
     "name": "stdout",
     "output_type": "stream",
     "text": [
      "45 example utterance(s) added.\n"
     ]
    }
   ],
   "source": [
    "intentions_path = \"data/data_intentions.txt\"\n",
    "list_utterances_default = get_data.create_data(intentions_path)\n",
    "lf.add_utterances(app_id, app_version, list_utterances_default)\n",
    "print(\"{} example utterance(s) added.\".format(len(list_utterances_default)))"
   ]
  },
  {
   "cell_type": "markdown",
   "metadata": {},
   "source": [
    "On les ajoute 100 par 100 sinon Luis refuse autant de requetes en gratuit : "
   ]
  },
  {
   "cell_type": "code",
   "execution_count": 9,
   "metadata": {},
   "outputs": [
    {
     "name": "stdout",
     "output_type": "stream",
     "text": [
      "Adding intents to utterances...\n",
      "5130 example utterance(s) added.\n"
     ]
    }
   ],
   "source": [
    "print(\"Adding intents to utterances...\")\n",
    "# on garde les 229 premieres utterances pour evaluer luis\n",
    "for i in range(229, len(list_train), 100):\n",
    "    j = (i + 100)\n",
    "    if j > len(list_final):\n",
    "        j = len(list_final)\n",
    "    lf.add_utterances(app_id, app_version, list_train[i:j])\n",
    "print(\"{} example utterance(s) added.\".format(len(list_train)))"
   ]
  },
  {
   "cell_type": "code",
   "execution_count": 10,
   "metadata": {},
   "outputs": [
    {
     "name": "stdout",
     "output_type": "stream",
     "text": [
      "Train application...\n",
      "Waiting 10 seconds for training to complete...\n",
      "Waiting 10 seconds for training to complete...\n",
      "Waiting 10 seconds for training to complete...\n",
      "trained\n"
     ]
    }
   ],
   "source": [
    "print(\"Train application...\")\n",
    "lf.train_app(app_id, app_version)"
   ]
  },
  {
   "cell_type": "code",
   "execution_count": 8,
   "metadata": {},
   "outputs": [
    {
     "name": "stdout",
     "output_type": "stream",
     "text": [
      "Evaluate application...\n"
     ]
    }
   ],
   "source": [
    "print(\"Evaluate application...\")\n",
    "test_path = \"data/evaluate.json\"\n",
    "lf.evaluate_app(test_path, list_test)"
   ]
  },
  {
   "cell_type": "code",
   "execution_count": 11,
   "metadata": {},
   "outputs": [
    {
     "name": "stdout",
     "output_type": "stream",
     "text": [
      "Publish application...\n",
      "Application published. Endpoint URL: https://westeurope.api.cognitive.microsoft.com/luis/v2.0/apps/482c7139-dbf6-4560-be9b-821f34dc99b9\n"
     ]
    }
   ],
   "source": [
    "print(\"Publish application...\")\n",
    "lf.publish_app(app_id, app_version)"
   ]
  },
  {
   "cell_type": "markdown",
   "metadata": {},
   "source": [
    "<div class=\"alert alert-block alert-success\">  \n",
    "<strong>2. Evaluation des predictions<a id='head-1-2'></a> 📕 📗 📘 📙</strong>\n",
    "        \n",
    "</div>"
   ]
  },
  {
   "cell_type": "code",
   "execution_count": 11,
   "metadata": {},
   "outputs": [
    {
     "name": "stdout",
     "output_type": "stream",
     "text": [
      "luisAppID: 5705e735-228d-430c-94fd-cab67b7f69ae\n",
      "luisSlotName: production\n"
     ]
    }
   ],
   "source": [
    "# <OtherVariables>\n",
    "# Use public app ID or replace with your own trained and published app's ID\n",
    "# to query your own app\n",
    "# public appID = 'df67dcdb-c37d-46af-88e1-8b97951ca1c2'\n",
    "luisAppID = '5705e735-228d-430c-94fd-cab67b7f69ae'\n",
    "print(\"luisAppID: {}\".format(luisAppID))\n",
    "\n",
    "# `production` or `staging`\n",
    "luisSlotName = 'production'\n",
    "print(\"luisSlotName: {}\".format(luisSlotName))\n",
    "# </OtherVariables>\n"
   ]
  },
  {
   "cell_type": "code",
   "execution_count": 13,
   "metadata": {},
   "outputs": [
    {
     "name": "stdout",
     "output_type": "stream",
     "text": [
      "Top intent: BookFlight\n",
      "Sentiment: None\n",
      "Intents: \n",
      "\t\"BookFlight\"\n",
      "Entities: {'or_city': ['paris'], 'dst_city': ['berlin'], 'budget': ['2020'], 'str_date': ['september'], 'end_date': ['2nd october']}\n"
     ]
    }
   ],
   "source": [
    "luis_predict.predict(luisAppID, luisSlotName)"
   ]
  },
  {
   "cell_type": "code",
   "execution_count": null,
   "metadata": {},
   "outputs": [],
   "source": []
  }
 ],
 "metadata": {
  "interpreter": {
   "hash": "a0aeebaa97e811681c1fbec8c49882f6a9a22fb7d7945e75bdc5088b795c0c91"
  },
  "kernelspec": {
   "display_name": "Python 3.8.10 64-bit ('luisIntegration': conda)",
   "name": "python3"
  },
  "language_info": {
   "codemirror_mode": {
    "name": "ipython",
    "version": 3
   },
   "file_extension": ".py",
   "mimetype": "text/x-python",
   "name": "python",
   "nbconvert_exporter": "python",
   "pygments_lexer": "ipython3",
   "version": "3.8.10"
  }
 },
 "nbformat": 4,
 "nbformat_minor": 5
}